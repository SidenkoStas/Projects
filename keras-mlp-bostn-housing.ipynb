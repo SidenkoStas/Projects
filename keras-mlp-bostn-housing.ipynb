{
 "cells": [
  {
   "cell_type": "code",
   "execution_count": 1,
   "metadata": {
    "_cell_guid": "b1076dfc-b9ad-4769-8c92-a6c4dae69d19",
    "_uuid": "8f2839f25d086af736a60e9eeb907d3b93b6e0e5",
    "execution": {
     "iopub.execute_input": "2021-03-11T10:34:36.223763Z",
     "iopub.status.busy": "2021-03-11T10:34:36.223026Z",
     "iopub.status.idle": "2021-03-11T10:34:36.228278Z",
     "shell.execute_reply": "2021-03-11T10:34:36.228851Z"
    },
    "papermill": {
     "duration": 0.027697,
     "end_time": "2021-03-11T10:34:36.229194",
     "exception": false,
     "start_time": "2021-03-11T10:34:36.201497",
     "status": "completed"
    },
    "tags": []
   },
   "outputs": [],
   "source": [
    "import os\n",
    "for dirname, _, filenames in os.walk('/kaggle/input'):\n",
    "    for filename in filenames:\n",
    "        print(os.path.join(dirname, filename))"
   ]
  },
  {
   "cell_type": "markdown",
   "metadata": {
    "papermill": {
     "duration": 0.015698,
     "end_time": "2021-03-11T10:34:36.263034",
     "exception": false,
     "start_time": "2021-03-11T10:34:36.247336",
     "status": "completed"
    },
    "tags": []
   },
   "source": [
    "Import needed librarys."
   ]
  },
  {
   "cell_type": "code",
   "execution_count": 2,
   "metadata": {
    "execution": {
     "iopub.execute_input": "2021-03-11T10:34:36.304983Z",
     "iopub.status.busy": "2021-03-11T10:34:36.304184Z",
     "iopub.status.idle": "2021-03-11T10:34:44.526551Z",
     "shell.execute_reply": "2021-03-11T10:34:44.525804Z"
    },
    "papermill": {
     "duration": 8.245282,
     "end_time": "2021-03-11T10:34:44.526734",
     "exception": false,
     "start_time": "2021-03-11T10:34:36.281452",
     "status": "completed"
    },
    "tags": []
   },
   "outputs": [],
   "source": [
    "import seaborn as sns\n",
    "import matplotlib.pyplot as plt\n",
    "import pandas as pd\n",
    "import numpy as np\n",
    "from keras.datasets import boston_housing\n",
    "import tensorflow as tf\n",
    "from tensorflow import keras\n",
    "from tensorflow.keras import layers\n",
    "from sklearn.model_selection import KFold\n",
    "import matplotlib.pyplot as plt"
   ]
  },
  {
   "cell_type": "markdown",
   "metadata": {
    "papermill": {
     "duration": 0.017093,
     "end_time": "2021-03-11T10:34:44.561114",
     "exception": false,
     "start_time": "2021-03-11T10:34:44.544021",
     "status": "completed"
    },
    "tags": []
   },
   "source": [
    "Load data."
   ]
  },
  {
   "cell_type": "code",
   "execution_count": 3,
   "metadata": {
    "execution": {
     "iopub.execute_input": "2021-03-11T10:34:44.601207Z",
     "iopub.status.busy": "2021-03-11T10:34:44.600218Z",
     "iopub.status.idle": "2021-03-11T10:34:44.858145Z",
     "shell.execute_reply": "2021-03-11T10:34:44.858915Z"
    },
    "papermill": {
     "duration": 0.280596,
     "end_time": "2021-03-11T10:34:44.859136",
     "exception": false,
     "start_time": "2021-03-11T10:34:44.578540",
     "status": "completed"
    },
    "tags": []
   },
   "outputs": [
    {
     "name": "stdout",
     "output_type": "stream",
     "text": [
      "Downloading data from https://storage.googleapis.com/tensorflow/tf-keras-datasets/boston_housing.npz\n",
      "57344/57026 [==============================] - 0s 0us/step\n",
      "Download complete.\n"
     ]
    }
   ],
   "source": [
    "(x_train, y_train), (x_test, y_test) = boston_housing.load_data(test_split=0.2, seed=13)\n",
    "print('Download complete.')"
   ]
  },
  {
   "cell_type": "code",
   "execution_count": 4,
   "metadata": {
    "execution": {
     "iopub.execute_input": "2021-03-11T10:34:44.906905Z",
     "iopub.status.busy": "2021-03-11T10:34:44.905213Z",
     "iopub.status.idle": "2021-03-11T10:34:44.909368Z",
     "shell.execute_reply": "2021-03-11T10:34:44.908687Z"
    },
    "papermill": {
     "duration": 0.029153,
     "end_time": "2021-03-11T10:34:44.909512",
     "exception": false,
     "start_time": "2021-03-11T10:34:44.880359",
     "status": "completed"
    },
    "tags": []
   },
   "outputs": [],
   "source": [
    "x_train, y_train = x_train.astype(\"float32\"), y_train.astype(\"float32\")"
   ]
  },
  {
   "cell_type": "markdown",
   "metadata": {
    "papermill": {
     "duration": 0.022324,
     "end_time": "2021-03-11T10:34:44.952239",
     "exception": false,
     "start_time": "2021-03-11T10:34:44.929915",
     "status": "completed"
    },
    "tags": []
   },
   "source": [
    "### Info about data from http://lib.stat.cmu.edu/datasets/boston\n",
    "\n",
    "* CRIM     per capita crime rate by town\n",
    "* ZN       proportion of residential land zoned for lots over 25,000 sq.ft.\n",
    "* INDUS    proportion of non-retail business acres per town\n",
    "* CHAS     Charles River dummy variable (= 1 if tract bounds river; 0 otherwise)\n",
    "* NOX      nitric oxides concentration (parts per 10 million)\n",
    "* RM       average number of rooms per dwelling\n",
    "* AGE      proportion of owner-occupied units built prior to 1940\n",
    "* DIS      weighted distances to five Boston employment centres\n",
    "* RAD      index of accessibility to radial highways\n",
    "* TAX      full-value property-tax rate per \\$10,000\n",
    "* PTRATIO  pupil-teacher ratio by town\n",
    "* B        1000(Bk - 0.63)^2 where Bk is the proportion of blacks by town\n",
    "* LSTAT    % lower status of the population\n",
    "* MEDV  Median value of owner-occupied homes in $1000's"
   ]
  },
  {
   "cell_type": "code",
   "execution_count": 5,
   "metadata": {
    "execution": {
     "iopub.execute_input": "2021-03-11T10:34:45.002668Z",
     "iopub.status.busy": "2021-03-11T10:34:45.001874Z",
     "iopub.status.idle": "2021-03-11T10:34:45.004712Z",
     "shell.execute_reply": "2021-03-11T10:34:45.005225Z"
    },
    "papermill": {
     "duration": 0.032957,
     "end_time": "2021-03-11T10:34:45.005414",
     "exception": false,
     "start_time": "2021-03-11T10:34:44.972457",
     "status": "completed"
    },
    "tags": []
   },
   "outputs": [],
   "source": [
    "columns = ['CRIM','ZN', 'INDUS', 'CHAS', 'NOX', 'RM', 'AGE', 'DIS', 'RAD', 'TAX',\\\n",
    "           'PTRATIO', 'B', 'LSTAT']\n",
    "df = pd.DataFrame(x_train, columns=columns)"
   ]
  },
  {
   "cell_type": "code",
   "execution_count": 6,
   "metadata": {
    "execution": {
     "iopub.execute_input": "2021-03-11T10:34:45.050044Z",
     "iopub.status.busy": "2021-03-11T10:34:45.049085Z",
     "iopub.status.idle": "2021-03-11T10:34:45.098414Z",
     "shell.execute_reply": "2021-03-11T10:34:45.097858Z"
    },
    "papermill": {
     "duration": 0.073617,
     "end_time": "2021-03-11T10:34:45.098551",
     "exception": false,
     "start_time": "2021-03-11T10:34:45.024934",
     "status": "completed"
    },
    "tags": []
   },
   "outputs": [
    {
     "data": {
      "text/html": [
       "<div>\n",
       "<style scoped>\n",
       "    .dataframe tbody tr th:only-of-type {\n",
       "        vertical-align: middle;\n",
       "    }\n",
       "\n",
       "    .dataframe tbody tr th {\n",
       "        vertical-align: top;\n",
       "    }\n",
       "\n",
       "    .dataframe thead th {\n",
       "        text-align: right;\n",
       "    }\n",
       "</style>\n",
       "<table border=\"1\" class=\"dataframe\">\n",
       "  <thead>\n",
       "    <tr style=\"text-align: right;\">\n",
       "      <th></th>\n",
       "      <th>CRIM</th>\n",
       "      <th>ZN</th>\n",
       "      <th>INDUS</th>\n",
       "      <th>CHAS</th>\n",
       "      <th>NOX</th>\n",
       "      <th>RM</th>\n",
       "      <th>AGE</th>\n",
       "      <th>DIS</th>\n",
       "      <th>RAD</th>\n",
       "      <th>TAX</th>\n",
       "      <th>PTRATIO</th>\n",
       "      <th>B</th>\n",
       "      <th>LSTAT</th>\n",
       "    </tr>\n",
       "  </thead>\n",
       "  <tbody>\n",
       "    <tr>\n",
       "      <th>0</th>\n",
       "      <td>15.02340</td>\n",
       "      <td>0.0</td>\n",
       "      <td>18.10</td>\n",
       "      <td>0.0</td>\n",
       "      <td>0.614</td>\n",
       "      <td>5.304</td>\n",
       "      <td>97.300003</td>\n",
       "      <td>2.1007</td>\n",
       "      <td>24.0</td>\n",
       "      <td>666.0</td>\n",
       "      <td>20.200001</td>\n",
       "      <td>349.480011</td>\n",
       "      <td>24.91</td>\n",
       "    </tr>\n",
       "    <tr>\n",
       "      <th>1</th>\n",
       "      <td>5.44114</td>\n",
       "      <td>0.0</td>\n",
       "      <td>18.10</td>\n",
       "      <td>0.0</td>\n",
       "      <td>0.713</td>\n",
       "      <td>6.655</td>\n",
       "      <td>98.199997</td>\n",
       "      <td>2.3552</td>\n",
       "      <td>24.0</td>\n",
       "      <td>666.0</td>\n",
       "      <td>20.200001</td>\n",
       "      <td>355.290009</td>\n",
       "      <td>17.73</td>\n",
       "    </tr>\n",
       "    <tr>\n",
       "      <th>2</th>\n",
       "      <td>1.00245</td>\n",
       "      <td>0.0</td>\n",
       "      <td>8.14</td>\n",
       "      <td>0.0</td>\n",
       "      <td>0.538</td>\n",
       "      <td>6.674</td>\n",
       "      <td>87.300003</td>\n",
       "      <td>4.2390</td>\n",
       "      <td>4.0</td>\n",
       "      <td>307.0</td>\n",
       "      <td>21.000000</td>\n",
       "      <td>380.230011</td>\n",
       "      <td>11.98</td>\n",
       "    </tr>\n",
       "    <tr>\n",
       "      <th>3</th>\n",
       "      <td>0.00632</td>\n",
       "      <td>18.0</td>\n",
       "      <td>2.31</td>\n",
       "      <td>0.0</td>\n",
       "      <td>0.538</td>\n",
       "      <td>6.575</td>\n",
       "      <td>65.199997</td>\n",
       "      <td>4.0900</td>\n",
       "      <td>1.0</td>\n",
       "      <td>296.0</td>\n",
       "      <td>15.300000</td>\n",
       "      <td>396.899994</td>\n",
       "      <td>4.98</td>\n",
       "    </tr>\n",
       "    <tr>\n",
       "      <th>4</th>\n",
       "      <td>0.26169</td>\n",
       "      <td>0.0</td>\n",
       "      <td>9.90</td>\n",
       "      <td>0.0</td>\n",
       "      <td>0.544</td>\n",
       "      <td>6.023</td>\n",
       "      <td>90.400002</td>\n",
       "      <td>2.8340</td>\n",
       "      <td>4.0</td>\n",
       "      <td>304.0</td>\n",
       "      <td>18.400000</td>\n",
       "      <td>396.299988</td>\n",
       "      <td>11.72</td>\n",
       "    </tr>\n",
       "  </tbody>\n",
       "</table>\n",
       "</div>"
      ],
      "text/plain": [
       "       CRIM    ZN  INDUS  CHAS    NOX     RM        AGE     DIS   RAD    TAX  \\\n",
       "0  15.02340   0.0  18.10   0.0  0.614  5.304  97.300003  2.1007  24.0  666.0   \n",
       "1   5.44114   0.0  18.10   0.0  0.713  6.655  98.199997  2.3552  24.0  666.0   \n",
       "2   1.00245   0.0   8.14   0.0  0.538  6.674  87.300003  4.2390   4.0  307.0   \n",
       "3   0.00632  18.0   2.31   0.0  0.538  6.575  65.199997  4.0900   1.0  296.0   \n",
       "4   0.26169   0.0   9.90   0.0  0.544  6.023  90.400002  2.8340   4.0  304.0   \n",
       "\n",
       "     PTRATIO           B  LSTAT  \n",
       "0  20.200001  349.480011  24.91  \n",
       "1  20.200001  355.290009  17.73  \n",
       "2  21.000000  380.230011  11.98  \n",
       "3  15.300000  396.899994   4.98  \n",
       "4  18.400000  396.299988  11.72  "
      ]
     },
     "execution_count": 6,
     "metadata": {},
     "output_type": "execute_result"
    }
   ],
   "source": [
    "df.head()"
   ]
  },
  {
   "cell_type": "code",
   "execution_count": 7,
   "metadata": {
    "execution": {
     "iopub.execute_input": "2021-03-11T10:34:45.154458Z",
     "iopub.status.busy": "2021-03-11T10:34:45.153407Z",
     "iopub.status.idle": "2021-03-11T10:34:45.214134Z",
     "shell.execute_reply": "2021-03-11T10:34:45.213402Z"
    },
    "papermill": {
     "duration": 0.093064,
     "end_time": "2021-03-11T10:34:45.214298",
     "exception": false,
     "start_time": "2021-03-11T10:34:45.121234",
     "status": "completed"
    },
    "tags": []
   },
   "outputs": [
    {
     "data": {
      "text/html": [
       "<div>\n",
       "<style scoped>\n",
       "    .dataframe tbody tr th:only-of-type {\n",
       "        vertical-align: middle;\n",
       "    }\n",
       "\n",
       "    .dataframe tbody tr th {\n",
       "        vertical-align: top;\n",
       "    }\n",
       "\n",
       "    .dataframe thead th {\n",
       "        text-align: right;\n",
       "    }\n",
       "</style>\n",
       "<table border=\"1\" class=\"dataframe\">\n",
       "  <thead>\n",
       "    <tr style=\"text-align: right;\">\n",
       "      <th></th>\n",
       "      <th>CRIM</th>\n",
       "      <th>ZN</th>\n",
       "      <th>INDUS</th>\n",
       "      <th>CHAS</th>\n",
       "      <th>NOX</th>\n",
       "      <th>RM</th>\n",
       "      <th>AGE</th>\n",
       "      <th>DIS</th>\n",
       "      <th>RAD</th>\n",
       "      <th>TAX</th>\n",
       "      <th>PTRATIO</th>\n",
       "      <th>B</th>\n",
       "      <th>LSTAT</th>\n",
       "    </tr>\n",
       "  </thead>\n",
       "  <tbody>\n",
       "    <tr>\n",
       "      <th>count</th>\n",
       "      <td>404.000000</td>\n",
       "      <td>404.000000</td>\n",
       "      <td>404.000000</td>\n",
       "      <td>404.000000</td>\n",
       "      <td>404.000000</td>\n",
       "      <td>404.000000</td>\n",
       "      <td>404.000000</td>\n",
       "      <td>404.000000</td>\n",
       "      <td>404.000000</td>\n",
       "      <td>404.000000</td>\n",
       "      <td>404.000000</td>\n",
       "      <td>404.000000</td>\n",
       "      <td>404.000000</td>\n",
       "    </tr>\n",
       "    <tr>\n",
       "      <th>mean</th>\n",
       "      <td>3.738486</td>\n",
       "      <td>11.530941</td>\n",
       "      <td>10.974239</td>\n",
       "      <td>0.076733</td>\n",
       "      <td>0.551225</td>\n",
       "      <td>6.305846</td>\n",
       "      <td>68.110901</td>\n",
       "      <td>3.835318</td>\n",
       "      <td>9.569307</td>\n",
       "      <td>408.383667</td>\n",
       "      <td>18.497797</td>\n",
       "      <td>356.956177</td>\n",
       "      <td>12.620049</td>\n",
       "    </tr>\n",
       "    <tr>\n",
       "      <th>std</th>\n",
       "      <td>9.011991</td>\n",
       "      <td>23.342165</td>\n",
       "      <td>6.825140</td>\n",
       "      <td>0.266497</td>\n",
       "      <td>0.114431</td>\n",
       "      <td>0.694874</td>\n",
       "      <td>28.133350</td>\n",
       "      <td>2.106375</td>\n",
       "      <td>8.730755</td>\n",
       "      <td>169.942810</td>\n",
       "      <td>2.133723</td>\n",
       "      <td>89.869530</td>\n",
       "      <td>7.035633</td>\n",
       "    </tr>\n",
       "    <tr>\n",
       "      <th>min</th>\n",
       "      <td>0.006320</td>\n",
       "      <td>0.000000</td>\n",
       "      <td>0.740000</td>\n",
       "      <td>0.000000</td>\n",
       "      <td>0.385000</td>\n",
       "      <td>3.863000</td>\n",
       "      <td>2.900000</td>\n",
       "      <td>1.129600</td>\n",
       "      <td>1.000000</td>\n",
       "      <td>187.000000</td>\n",
       "      <td>12.600000</td>\n",
       "      <td>2.520000</td>\n",
       "      <td>1.730000</td>\n",
       "    </tr>\n",
       "    <tr>\n",
       "      <th>25%</th>\n",
       "      <td>0.082382</td>\n",
       "      <td>0.000000</td>\n",
       "      <td>5.190000</td>\n",
       "      <td>0.000000</td>\n",
       "      <td>0.448000</td>\n",
       "      <td>5.903250</td>\n",
       "      <td>44.924999</td>\n",
       "      <td>2.111750</td>\n",
       "      <td>4.000000</td>\n",
       "      <td>277.000000</td>\n",
       "      <td>17.400000</td>\n",
       "      <td>374.649994</td>\n",
       "      <td>6.867500</td>\n",
       "    </tr>\n",
       "    <tr>\n",
       "      <th>50%</th>\n",
       "      <td>0.229480</td>\n",
       "      <td>0.000000</td>\n",
       "      <td>8.560000</td>\n",
       "      <td>0.000000</td>\n",
       "      <td>0.524000</td>\n",
       "      <td>6.209000</td>\n",
       "      <td>76.250000</td>\n",
       "      <td>3.215700</td>\n",
       "      <td>5.000000</td>\n",
       "      <td>330.000000</td>\n",
       "      <td>19.100000</td>\n",
       "      <td>391.304993</td>\n",
       "      <td>11.395000</td>\n",
       "    </tr>\n",
       "    <tr>\n",
       "      <th>75%</th>\n",
       "      <td>3.716457</td>\n",
       "      <td>13.750000</td>\n",
       "      <td>18.100000</td>\n",
       "      <td>0.000000</td>\n",
       "      <td>0.624000</td>\n",
       "      <td>6.629250</td>\n",
       "      <td>93.800003</td>\n",
       "      <td>5.255350</td>\n",
       "      <td>24.000000</td>\n",
       "      <td>666.000000</td>\n",
       "      <td>20.200001</td>\n",
       "      <td>396.059998</td>\n",
       "      <td>17.112501</td>\n",
       "    </tr>\n",
       "    <tr>\n",
       "      <th>max</th>\n",
       "      <td>88.976196</td>\n",
       "      <td>95.000000</td>\n",
       "      <td>27.740000</td>\n",
       "      <td>1.000000</td>\n",
       "      <td>0.871000</td>\n",
       "      <td>8.780000</td>\n",
       "      <td>100.000000</td>\n",
       "      <td>12.126500</td>\n",
       "      <td>24.000000</td>\n",
       "      <td>711.000000</td>\n",
       "      <td>21.200001</td>\n",
       "      <td>396.899994</td>\n",
       "      <td>37.970001</td>\n",
       "    </tr>\n",
       "  </tbody>\n",
       "</table>\n",
       "</div>"
      ],
      "text/plain": [
       "             CRIM          ZN       INDUS        CHAS         NOX          RM  \\\n",
       "count  404.000000  404.000000  404.000000  404.000000  404.000000  404.000000   \n",
       "mean     3.738486   11.530941   10.974239    0.076733    0.551225    6.305846   \n",
       "std      9.011991   23.342165    6.825140    0.266497    0.114431    0.694874   \n",
       "min      0.006320    0.000000    0.740000    0.000000    0.385000    3.863000   \n",
       "25%      0.082382    0.000000    5.190000    0.000000    0.448000    5.903250   \n",
       "50%      0.229480    0.000000    8.560000    0.000000    0.524000    6.209000   \n",
       "75%      3.716457   13.750000   18.100000    0.000000    0.624000    6.629250   \n",
       "max     88.976196   95.000000   27.740000    1.000000    0.871000    8.780000   \n",
       "\n",
       "              AGE         DIS         RAD         TAX     PTRATIO           B  \\\n",
       "count  404.000000  404.000000  404.000000  404.000000  404.000000  404.000000   \n",
       "mean    68.110901    3.835318    9.569307  408.383667   18.497797  356.956177   \n",
       "std     28.133350    2.106375    8.730755  169.942810    2.133723   89.869530   \n",
       "min      2.900000    1.129600    1.000000  187.000000   12.600000    2.520000   \n",
       "25%     44.924999    2.111750    4.000000  277.000000   17.400000  374.649994   \n",
       "50%     76.250000    3.215700    5.000000  330.000000   19.100000  391.304993   \n",
       "75%     93.800003    5.255350   24.000000  666.000000   20.200001  396.059998   \n",
       "max    100.000000   12.126500   24.000000  711.000000   21.200001  396.899994   \n",
       "\n",
       "            LSTAT  \n",
       "count  404.000000  \n",
       "mean    12.620049  \n",
       "std      7.035633  \n",
       "min      1.730000  \n",
       "25%      6.867500  \n",
       "50%     11.395000  \n",
       "75%     17.112501  \n",
       "max     37.970001  "
      ]
     },
     "execution_count": 7,
     "metadata": {},
     "output_type": "execute_result"
    }
   ],
   "source": [
    "df.describe()"
   ]
  },
  {
   "cell_type": "code",
   "execution_count": 8,
   "metadata": {
    "execution": {
     "iopub.execute_input": "2021-03-11T10:34:45.290175Z",
     "iopub.status.busy": "2021-03-11T10:34:45.287609Z",
     "iopub.status.idle": "2021-03-11T10:34:45.684684Z",
     "shell.execute_reply": "2021-03-11T10:34:45.683637Z"
    },
    "papermill": {
     "duration": 0.447115,
     "end_time": "2021-03-11T10:34:45.684867",
     "exception": false,
     "start_time": "2021-03-11T10:34:45.237752",
     "status": "completed"
    },
    "tags": []
   },
   "outputs": [
    {
     "data": {
      "image/png": "[encoded data removed]",
      "text/plain": [
       "<Figure size 792x648 with 2 Axes>"
      ]
     },
     "metadata": {
      "needs_background": "light"
     },
     "output_type": "display_data"
    }
   ],
   "source": [
    "corr = df.corr()\n",
    "\n",
    "mask = np.triu(np.ones_like(corr, dtype=bool))\n",
    "\n",
    "f, ax = plt.subplots(figsize=(11, 9))\n",
    "\n",
    "cmap = sns.diverging_palette(150, 20, as_cmap=True)\n",
    "\n",
    "\n",
    "sns.heatmap(corr, mask=mask, cmap=cmap, vmax=.3, center=0,\n",
    "            square=True, linewidths=.5, cbar_kws={\"shrink\": .5});"
   ]
  },
  {
   "cell_type": "markdown",
   "metadata": {
    "papermill": {
     "duration": 0.021527,
     "end_time": "2021-03-11T10:34:45.730378",
     "exception": false,
     "start_time": "2021-03-11T10:34:45.708851",
     "status": "completed"
    },
    "tags": []
   },
   "source": [
    "# Functional API method"
   ]
  },
  {
   "cell_type": "code",
   "execution_count": 9,
   "metadata": {
    "execution": {
     "iopub.execute_input": "2021-03-11T10:34:45.783902Z",
     "iopub.status.busy": "2021-03-11T10:34:45.783041Z",
     "iopub.status.idle": "2021-03-11T10:34:45.922263Z",
     "shell.execute_reply": "2021-03-11T10:34:45.920945Z"
    },
    "papermill": {
     "duration": 0.169658,
     "end_time": "2021-03-11T10:34:45.922489",
     "exception": false,
     "start_time": "2021-03-11T10:34:45.752831",
     "status": "completed"
    },
    "tags": []
   },
   "outputs": [],
   "source": [
    "inputs = keras.Input(shape=(13,))\n",
    "\n",
    "dense = keras.layers.experimental.preprocessing.Normalization()\n",
    "dense.adapt(x_train)\n",
    "x = dense(inputs)\n",
    "x = layers.Dense(20, activation=\"relu\")(x)\n",
    "x = layers.Dropout(0.2)(x)\n",
    "x = layers.Dense(20, activation=\"relu\")(x)\n",
    "x = layers.Dropout(0.2)(x)\n",
    "outputs = layers.Dense(1)(x)\n",
    "\n",
    "\n",
    "model = keras.Model(inputs=inputs, outputs=outputs, name=\"mlp_b_h\")"
   ]
  },
  {
   "cell_type": "code",
   "execution_count": 10,
   "metadata": {
    "execution": {
     "iopub.execute_input": "2021-03-11T10:34:45.975230Z",
     "iopub.status.busy": "2021-03-11T10:34:45.974489Z",
     "iopub.status.idle": "2021-03-11T10:34:45.982208Z",
     "shell.execute_reply": "2021-03-11T10:34:45.981479Z"
    },
    "papermill": {
     "duration": 0.036144,
     "end_time": "2021-03-11T10:34:45.982354",
     "exception": false,
     "start_time": "2021-03-11T10:34:45.946210",
     "status": "completed"
    },
    "tags": []
   },
   "outputs": [
    {
     "name": "stdout",
     "output_type": "stream",
     "text": [
      "Model: \"mlp_b_h\"\n",
      "_________________________________________________________________\n",
      "Layer (type)                 Output Shape              Param #   \n",
      "=================================================================\n",
      "input_1 (InputLayer)         [(None, 13)]              0         \n",
      "_________________________________________________________________\n",
      "normalization (Normalization (None, 13)                27        \n",
      "_________________________________________________________________\n",
      "dense (Dense)                (None, 20)                280       \n",
      "_________________________________________________________________\n",
      "dropout (Dropout)            (None, 20)                0         \n",
      "_________________________________________________________________\n",
      "dense_1 (Dense)              (None, 20)                420       \n",
      "_________________________________________________________________\n",
      "dropout_1 (Dropout)          (None, 20)                0         \n",
      "_________________________________________________________________\n",
      "dense_2 (Dense)              (None, 1)                 21        \n",
      "=================================================================\n",
      "Total params: 748\n",
      "Trainable params: 721\n",
      "Non-trainable params: 27\n",
      "_________________________________________________________________\n"
     ]
    }
   ],
   "source": [
    "model.summary()"
   ]
  },
  {
   "cell_type": "code",
   "execution_count": 11,
   "metadata": {
    "execution": {
     "iopub.execute_input": "2021-03-11T10:34:46.032416Z",
     "iopub.status.busy": "2021-03-11T10:34:46.031721Z",
     "iopub.status.idle": "2021-03-11T10:34:46.764509Z",
     "shell.execute_reply": "2021-03-11T10:34:46.765061Z"
    },
    "papermill": {
     "duration": 0.760669,
     "end_time": "2021-03-11T10:34:46.765240",
     "exception": false,
     "start_time": "2021-03-11T10:34:46.004571",
     "status": "completed"
    },
    "tags": []
   },
   "outputs": [
    {
     "data": {
      "image/png": "[encoded data removed]",
      "text/plain": [
       "<IPython.core.display.Image object>"
      ]
     },
     "execution_count": 11,
     "metadata": {},
     "output_type": "execute_result"
    }
   ],
   "source": [
    "keras.utils.plot_model(model, \"mlp_b_h.png\", show_shapes=True)"
   ]
  },
  {
   "cell_type": "code",
   "execution_count": 12,
   "metadata": {
    "execution": {
     "iopub.execute_input": "2021-03-11T10:34:46.815945Z",
     "iopub.status.busy": "2021-03-11T10:34:46.815260Z",
     "iopub.status.idle": "2021-03-11T10:34:46.821235Z",
     "shell.execute_reply": "2021-03-11T10:34:46.821791Z"
    },
    "papermill": {
     "duration": 0.033804,
     "end_time": "2021-03-11T10:34:46.821980",
     "exception": false,
     "start_time": "2021-03-11T10:34:46.788176",
     "status": "completed"
    },
    "tags": []
   },
   "outputs": [],
   "source": [
    "def get_scores(model, X_train, Y_train, X_valid, Y_valid):\n",
    "    model.fit(X_train, Y_train, batch_size=32,epochs=10)\n",
    "    return model.evaluate(X_valid, Y_valid)"
   ]
  },
  {
   "cell_type": "code",
   "execution_count": 13,
   "metadata": {
    "execution": {
     "iopub.execute_input": "2021-03-11T10:34:46.872142Z",
     "iopub.status.busy": "2021-03-11T10:34:46.871440Z",
     "iopub.status.idle": "2021-03-11T10:34:55.892509Z",
     "shell.execute_reply": "2021-03-11T10:34:55.891716Z"
    },
    "papermill": {
     "duration": 9.047026,
     "end_time": "2021-03-11T10:34:55.892734",
     "exception": false,
     "start_time": "2021-03-11T10:34:46.845708",
     "status": "completed"
    },
    "tags": []
   },
   "outputs": [
    {
     "name": "stdout",
     "output_type": "stream",
     "text": [
      "Epoch 1/10\n",
      "12/12 [==============================] - 1s 2ms/step - loss: 608.0301 - root_mean_squared_error: 24.6466\n",
      "Epoch 2/10\n",
      "12/12 [==============================] - 0s 2ms/step - loss: 527.7987 - root_mean_squared_error: 22.9656\n",
      "Epoch 3/10\n",
      "12/12 [==============================] - 0s 2ms/step - loss: 534.1208 - root_mean_squared_error: 23.1078\n",
      "Epoch 4/10\n",
      "12/12 [==============================] - 0s 2ms/step - loss: 520.5383 - root_mean_squared_error: 22.8118\n",
      "Epoch 5/10\n",
      "12/12 [==============================] - 0s 2ms/step - loss: 490.8100 - root_mean_squared_error: 22.1491\n",
      "Epoch 6/10\n",
      "12/12 [==============================] - 0s 2ms/step - loss: 448.4752 - root_mean_squared_error: 21.1762\n",
      "Epoch 7/10\n",
      "12/12 [==============================] - 0s 2ms/step - loss: 406.0793 - root_mean_squared_error: 20.1469\n",
      "Epoch 8/10\n",
      "12/12 [==============================] - 0s 2ms/step - loss: 350.5215 - root_mean_squared_error: 18.7218\n",
      "Epoch 9/10\n",
      "12/12 [==============================] - 0s 2ms/step - loss: 304.4034 - root_mean_squared_error: 17.4340\n",
      "Epoch 10/10\n",
      "12/12 [==============================] - 0s 2ms/step - loss: 242.5380 - root_mean_squared_error: 15.5645\n",
      "2/2 [==============================] - 0s 3ms/step - loss: 149.6718 - root_mean_squared_error: 12.2340\n",
      "Epoch 1/10\n",
      "12/12 [==============================] - 0s 2ms/step - loss: 169.3302 - root_mean_squared_error: 13.0085\n",
      "Epoch 2/10\n",
      "12/12 [==============================] - 0s 2ms/step - loss: 172.4622 - root_mean_squared_error: 13.1036\n",
      "Epoch 3/10\n",
      "12/12 [==============================] - 0s 1ms/step - loss: 143.4611 - root_mean_squared_error: 11.9683\n",
      "Epoch 4/10\n",
      "12/12 [==============================] - 0s 2ms/step - loss: 107.9218 - root_mean_squared_error: 10.3737\n",
      "Epoch 5/10\n",
      "12/12 [==============================] - 0s 2ms/step - loss: 82.7389 - root_mean_squared_error: 9.0923\n",
      "Epoch 6/10\n",
      "12/12 [==============================] - 0s 1ms/step - loss: 90.2529 - root_mean_squared_error: 9.4959\n",
      "Epoch 7/10\n",
      "12/12 [==============================] - 0s 2ms/step - loss: 75.7591 - root_mean_squared_error: 8.6926\n",
      "Epoch 8/10\n",
      "12/12 [==============================] - 0s 2ms/step - loss: 72.5969 - root_mean_squared_error: 8.5103\n",
      "Epoch 9/10\n",
      "12/12 [==============================] - 0s 2ms/step - loss: 74.2654 - root_mean_squared_error: 8.6055\n",
      "Epoch 10/10\n",
      "12/12 [==============================] - 0s 2ms/step - loss: 62.4043 - root_mean_squared_error: 7.8922\n",
      "2/2 [==============================] - 0s 4ms/step - loss: 57.5297 - root_mean_squared_error: 7.5848\n",
      "Epoch 1/10\n",
      "12/12 [==============================] - 0s 1ms/step - loss: 51.8929 - root_mean_squared_error: 7.1859\n",
      "Epoch 2/10\n",
      "12/12 [==============================] - 0s 2ms/step - loss: 54.8809 - root_mean_squared_error: 7.4047\n",
      "Epoch 3/10\n",
      "12/12 [==============================] - 0s 2ms/step - loss: 60.1052 - root_mean_squared_error: 7.7460\n",
      "Epoch 4/10\n",
      "12/12 [==============================] - 0s 2ms/step - loss: 59.1882 - root_mean_squared_error: 7.6747\n",
      "Epoch 5/10\n",
      "12/12 [==============================] - 0s 2ms/step - loss: 48.2933 - root_mean_squared_error: 6.9376\n",
      "Epoch 6/10\n",
      "12/12 [==============================] - 0s 2ms/step - loss: 58.7738 - root_mean_squared_error: 7.6562\n",
      "Epoch 7/10\n",
      "12/12 [==============================] - 0s 2ms/step - loss: 46.5967 - root_mean_squared_error: 6.8216\n",
      "Epoch 8/10\n",
      "12/12 [==============================] - 0s 2ms/step - loss: 44.9338 - root_mean_squared_error: 6.6619\n",
      "Epoch 9/10\n",
      "12/12 [==============================] - 0s 2ms/step - loss: 52.0928 - root_mean_squared_error: 7.2061\n",
      "Epoch 10/10\n",
      "12/12 [==============================] - 0s 2ms/step - loss: 45.5514 - root_mean_squared_error: 6.7470\n",
      "2/2 [==============================] - 0s 3ms/step - loss: 28.6420 - root_mean_squared_error: 5.3518\n",
      "Epoch 1/10\n",
      "12/12 [==============================] - 0s 2ms/step - loss: 44.7680 - root_mean_squared_error: 6.6698\n",
      "Epoch 2/10\n",
      "12/12 [==============================] - 0s 2ms/step - loss: 42.3614 - root_mean_squared_error: 6.5080\n",
      "Epoch 3/10\n",
      "12/12 [==============================] - 0s 2ms/step - loss: 63.2846 - root_mean_squared_error: 7.9122\n",
      "Epoch 4/10\n",
      "12/12 [==============================] - 0s 2ms/step - loss: 45.2762 - root_mean_squared_error: 6.7258\n",
      "Epoch 5/10\n",
      "12/12 [==============================] - 0s 2ms/step - loss: 49.2778 - root_mean_squared_error: 6.9717\n",
      "Epoch 6/10\n",
      "12/12 [==============================] - 0s 1ms/step - loss: 42.9477 - root_mean_squared_error: 6.5473\n",
      "Epoch 7/10\n",
      "12/12 [==============================] - 0s 2ms/step - loss: 49.3652 - root_mean_squared_error: 7.0223\n",
      "Epoch 8/10\n",
      "12/12 [==============================] - 0s 2ms/step - loss: 43.4541 - root_mean_squared_error: 6.5899\n",
      "Epoch 9/10\n",
      "12/12 [==============================] - 0s 2ms/step - loss: 38.2136 - root_mean_squared_error: 6.1441\n",
      "Epoch 10/10\n",
      "12/12 [==============================] - 0s 2ms/step - loss: 40.5584 - root_mean_squared_error: 6.3676\n",
      "2/2 [==============================] - 0s 3ms/step - loss: 13.3840 - root_mean_squared_error: 3.6584\n",
      "Epoch 1/10\n",
      "12/12 [==============================] - 0s 2ms/step - loss: 38.9529 - root_mean_squared_error: 6.2212\n",
      "Epoch 2/10\n",
      "12/12 [==============================] - 0s 2ms/step - loss: 41.7094 - root_mean_squared_error: 6.4527\n",
      "Epoch 3/10\n",
      "12/12 [==============================] - 0s 2ms/step - loss: 40.3792 - root_mean_squared_error: 6.3518\n",
      "Epoch 4/10\n",
      "12/12 [==============================] - 0s 2ms/step - loss: 41.9697 - root_mean_squared_error: 6.4702\n",
      "Epoch 5/10\n",
      "12/12 [==============================] - 0s 2ms/step - loss: 47.5487 - root_mean_squared_error: 6.8859\n",
      "Epoch 6/10\n",
      "12/12 [==============================] - 0s 2ms/step - loss: 39.4492 - root_mean_squared_error: 6.2301\n",
      "Epoch 7/10\n",
      "12/12 [==============================] - 0s 2ms/step - loss: 36.6292 - root_mean_squared_error: 6.0255\n",
      "Epoch 8/10\n",
      "12/12 [==============================] - 0s 2ms/step - loss: 33.1896 - root_mean_squared_error: 5.7569\n",
      "Epoch 9/10\n",
      "12/12 [==============================] - 0s 2ms/step - loss: 38.0725 - root_mean_squared_error: 6.1660\n",
      "Epoch 10/10\n",
      "12/12 [==============================] - 0s 2ms/step - loss: 36.4755 - root_mean_squared_error: 6.0306\n",
      "2/2 [==============================] - 0s 3ms/step - loss: 9.1670 - root_mean_squared_error: 3.0277\n",
      "Epoch 1/10\n",
      "12/12 [==============================] - 0s 2ms/step - loss: 37.1215 - root_mean_squared_error: 6.0873\n",
      "Epoch 2/10\n",
      "12/12 [==============================] - 0s 2ms/step - loss: 34.0756 - root_mean_squared_error: 5.8338\n",
      "Epoch 3/10\n",
      "12/12 [==============================] - 0s 2ms/step - loss: 31.7771 - root_mean_squared_error: 5.6141\n",
      "Epoch 4/10\n",
      "12/12 [==============================] - 0s 2ms/step - loss: 33.3531 - root_mean_squared_error: 5.7730\n",
      "Epoch 5/10\n",
      "12/12 [==============================] - 0s 2ms/step - loss: 34.4107 - root_mean_squared_error: 5.8593\n",
      "Epoch 6/10\n",
      "12/12 [==============================] - 0s 2ms/step - loss: 33.8518 - root_mean_squared_error: 5.8168\n",
      "Epoch 7/10\n",
      "12/12 [==============================] - 0s 2ms/step - loss: 28.1124 - root_mean_squared_error: 5.2879\n",
      "Epoch 8/10\n",
      "12/12 [==============================] - 0s 2ms/step - loss: 32.6804 - root_mean_squared_error: 5.7132\n",
      "Epoch 9/10\n",
      "12/12 [==============================] - 0s 2ms/step - loss: 40.1234 - root_mean_squared_error: 6.3270\n",
      "Epoch 10/10\n",
      "12/12 [==============================] - 0s 2ms/step - loss: 32.1425 - root_mean_squared_error: 5.6480\n",
      "2/2 [==============================] - 0s 4ms/step - loss: 32.0572 - root_mean_squared_error: 5.6619\n",
      "Epoch 1/10\n",
      "12/12 [==============================] - 0s 2ms/step - loss: 38.5240 - root_mean_squared_error: 6.2043\n",
      "Epoch 2/10\n",
      "12/12 [==============================] - 0s 2ms/step - loss: 35.4091 - root_mean_squared_error: 5.9421\n",
      "Epoch 3/10\n",
      "12/12 [==============================] - 0s 2ms/step - loss: 30.0079 - root_mean_squared_error: 5.4570\n",
      "Epoch 4/10\n",
      "12/12 [==============================] - 0s 1ms/step - loss: 45.5141 - root_mean_squared_error: 6.7362\n",
      "Epoch 5/10\n",
      "12/12 [==============================] - 0s 1ms/step - loss: 39.7675 - root_mean_squared_error: 6.2906\n",
      "Epoch 6/10\n",
      "12/12 [==============================] - 0s 2ms/step - loss: 34.8075 - root_mean_squared_error: 5.8859\n",
      "Epoch 7/10\n",
      "12/12 [==============================] - 0s 2ms/step - loss: 40.1660 - root_mean_squared_error: 6.3351\n",
      "Epoch 8/10\n",
      "12/12 [==============================] - 0s 2ms/step - loss: 39.7713 - root_mean_squared_error: 6.2960\n",
      "Epoch 9/10\n",
      "12/12 [==============================] - 0s 2ms/step - loss: 31.1673 - root_mean_squared_error: 5.5664\n",
      "Epoch 10/10\n",
      "12/12 [==============================] - 0s 1ms/step - loss: 41.8210 - root_mean_squared_error: 6.4524\n",
      "2/2 [==============================] - 0s 3ms/step - loss: 9.0303 - root_mean_squared_error: 3.0050\n",
      "Epoch 1/10\n",
      "12/12 [==============================] - 0s 2ms/step - loss: 30.1887 - root_mean_squared_error: 5.4449\n",
      "Epoch 2/10\n",
      "12/12 [==============================] - 0s 1ms/step - loss: 28.0966 - root_mean_squared_error: 5.2698\n",
      "Epoch 3/10\n",
      "12/12 [==============================] - 0s 1ms/step - loss: 27.0132 - root_mean_squared_error: 5.1923\n",
      "Epoch 4/10\n",
      "12/12 [==============================] - 0s 1ms/step - loss: 32.0191 - root_mean_squared_error: 5.6487\n",
      "Epoch 5/10\n",
      "12/12 [==============================] - 0s 1ms/step - loss: 31.2699 - root_mean_squared_error: 5.5831\n",
      "Epoch 6/10\n",
      "12/12 [==============================] - 0s 2ms/step - loss: 35.9546 - root_mean_squared_error: 5.9873\n",
      "Epoch 7/10\n",
      "12/12 [==============================] - 0s 2ms/step - loss: 34.7137 - root_mean_squared_error: 5.8814\n",
      "Epoch 8/10\n",
      "12/12 [==============================] - 0s 1ms/step - loss: 38.8448 - root_mean_squared_error: 6.1997\n",
      "Epoch 9/10\n",
      "12/12 [==============================] - 0s 2ms/step - loss: 29.9158 - root_mean_squared_error: 5.4638\n",
      "Epoch 10/10\n",
      "12/12 [==============================] - 0s 2ms/step - loss: 23.4643 - root_mean_squared_error: 4.8273\n",
      "2/2 [==============================] - 0s 3ms/step - loss: 28.7400 - root_mean_squared_error: 5.3610\n",
      "Epoch 1/10\n",
      "12/12 [==============================] - 0s 2ms/step - loss: 38.8035 - root_mean_squared_error: 6.2199\n",
      "Epoch 2/10\n",
      "12/12 [==============================] - 0s 2ms/step - loss: 31.1448 - root_mean_squared_error: 5.5721\n",
      "Epoch 3/10\n",
      "12/12 [==============================] - 0s 2ms/step - loss: 27.0959 - root_mean_squared_error: 5.1735\n",
      "Epoch 4/10\n",
      "12/12 [==============================] - 0s 2ms/step - loss: 26.9554 - root_mean_squared_error: 5.1890\n",
      "Epoch 5/10\n",
      "12/12 [==============================] - 0s 2ms/step - loss: 38.6191 - root_mean_squared_error: 6.1930\n",
      "Epoch 6/10\n",
      "12/12 [==============================] - 0s 2ms/step - loss: 29.5610 - root_mean_squared_error: 5.4204\n",
      "Epoch 7/10\n",
      "12/12 [==============================] - 0s 2ms/step - loss: 29.5479 - root_mean_squared_error: 5.4285\n",
      "Epoch 8/10\n",
      "12/12 [==============================] - 0s 2ms/step - loss: 34.6072 - root_mean_squared_error: 5.8733\n",
      "Epoch 9/10\n",
      "12/12 [==============================] - 0s 2ms/step - loss: 30.1225 - root_mean_squared_error: 5.4867\n",
      "Epoch 10/10\n",
      "12/12 [==============================] - 0s 1ms/step - loss: 26.4234 - root_mean_squared_error: 5.1206\n",
      "2/2 [==============================] - 0s 3ms/step - loss: 8.7933 - root_mean_squared_error: 2.9654\n",
      "Epoch 1/10\n",
      "12/12 [==============================] - 0s 2ms/step - loss: 29.0577 - root_mean_squared_error: 5.3875\n",
      "Epoch 2/10\n",
      "12/12 [==============================] - 0s 2ms/step - loss: 26.5922 - root_mean_squared_error: 5.1310\n",
      "Epoch 3/10\n",
      "12/12 [==============================] - 0s 2ms/step - loss: 31.0311 - root_mean_squared_error: 5.5692\n",
      "Epoch 4/10\n",
      "12/12 [==============================] - 0s 1ms/step - loss: 27.0639 - root_mean_squared_error: 5.1903\n",
      "Epoch 5/10\n",
      "12/12 [==============================] - 0s 1ms/step - loss: 25.3199 - root_mean_squared_error: 5.0120\n",
      "Epoch 6/10\n",
      "12/12 [==============================] - 0s 2ms/step - loss: 24.9651 - root_mean_squared_error: 4.9954\n",
      "Epoch 7/10\n",
      "12/12 [==============================] - 0s 2ms/step - loss: 22.8607 - root_mean_squared_error: 4.7620\n",
      "Epoch 8/10\n",
      "12/12 [==============================] - 0s 2ms/step - loss: 27.5248 - root_mean_squared_error: 5.2216\n",
      "Epoch 9/10\n",
      "12/12 [==============================] - 0s 1ms/step - loss: 33.2727 - root_mean_squared_error: 5.7313\n",
      "Epoch 10/10\n",
      "12/12 [==============================] - 0s 1ms/step - loss: 34.3876 - root_mean_squared_error: 5.8302\n",
      "2/2 [==============================] - 0s 3ms/step - loss: 12.5154 - root_mean_squared_error: 3.5377\n"
     ]
    }
   ],
   "source": [
    "score_models = []\n",
    "kf = KFold(n_splits=10)\n",
    "for train_index, valid_index in kf.split(x_train):\n",
    "    model = keras.Model(inputs=inputs, outputs=outputs, name=\"mlp_b_h\")\n",
    "    model.compile(loss=keras.losses.MeanSquaredError(reduction=\"auto\"),\n",
    "              optimizer=keras.optimizers.Adam(), metrics=tf.keras.metrics.RootMeanSquaredError())\n",
    "    X_train, X_valid = x_train[train_index], x_train[valid_index]\n",
    "    Y_train, Y_valid = y_train[train_index], y_train[valid_index]    \n",
    "    score_models.append(get_scores(model, X_train, Y_train, X_valid, Y_valid))"
   ]
  },
  {
   "cell_type": "code",
   "execution_count": 14,
   "metadata": {
    "execution": {
     "iopub.execute_input": "2021-03-11T10:34:56.086377Z",
     "iopub.status.busy": "2021-03-11T10:34:56.085515Z",
     "iopub.status.idle": "2021-03-11T10:34:56.091386Z",
     "shell.execute_reply": "2021-03-11T10:34:56.090710Z"
    },
    "papermill": {
     "duration": 0.105046,
     "end_time": "2021-03-11T10:34:56.091552",
     "exception": false,
     "start_time": "2021-03-11T10:34:55.986506",
     "status": "completed"
    },
    "tags": []
   },
   "outputs": [
    {
     "name": "stdout",
     "output_type": "stream",
     "text": [
      "Mean loss & metric equal: [34.95307512  5.238781  ]\n"
     ]
    }
   ],
   "source": [
    "mean_score = np.array(score_models).mean(axis=0)\n",
    "print(f\"Mean loss & metric equal: {mean_score}\")"
   ]
  },
  {
   "cell_type": "code",
   "execution_count": 15,
   "metadata": {
    "execution": {
     "iopub.execute_input": "2021-03-11T10:34:56.292238Z",
     "iopub.status.busy": "2021-03-11T10:34:56.291500Z",
     "iopub.status.idle": "2021-03-11T10:34:56.998008Z",
     "shell.execute_reply": "2021-03-11T10:34:56.997374Z"
    },
    "papermill": {
     "duration": 0.811853,
     "end_time": "2021-03-11T10:34:56.998179",
     "exception": false,
     "start_time": "2021-03-11T10:34:56.186326",
     "status": "completed"
    },
    "tags": []
   },
   "outputs": [
    {
     "name": "stdout",
     "output_type": "stream",
     "text": [
      "Epoch 1/10\n",
      "12/12 [==============================] - 0s 2ms/step - loss: 32.7350 - root_mean_squared_error: 5.7102\n",
      "Epoch 2/10\n",
      "12/12 [==============================] - 0s 2ms/step - loss: 33.0536 - root_mean_squared_error: 5.6614\n",
      "Epoch 3/10\n",
      "12/12 [==============================] - 0s 2ms/step - loss: 27.3484 - root_mean_squared_error: 5.2250\n",
      "Epoch 4/10\n",
      "12/12 [==============================] - 0s 2ms/step - loss: 22.5073 - root_mean_squared_error: 4.7300\n",
      "Epoch 5/10\n",
      "12/12 [==============================] - 0s 2ms/step - loss: 30.4179 - root_mean_squared_error: 5.5115\n",
      "Epoch 6/10\n",
      "12/12 [==============================] - 0s 2ms/step - loss: 23.5840 - root_mean_squared_error: 4.8229\n",
      "Epoch 7/10\n",
      "12/12 [==============================] - 0s 2ms/step - loss: 31.0687 - root_mean_squared_error: 5.5702\n",
      "Epoch 8/10\n",
      "12/12 [==============================] - 0s 2ms/step - loss: 27.8681 - root_mean_squared_error: 5.2761\n",
      "Epoch 9/10\n",
      "12/12 [==============================] - 0s 2ms/step - loss: 29.9671 - root_mean_squared_error: 5.4709\n",
      "Epoch 10/10\n",
      "12/12 [==============================] - 0s 2ms/step - loss: 28.1401 - root_mean_squared_error: 5.2988\n"
     ]
    },
    {
     "data": {
      "text/plain": [
       "<tensorflow.python.keras.callbacks.History at 0x7efed430bf90>"
      ]
     },
     "execution_count": 15,
     "metadata": {},
     "output_type": "execute_result"
    }
   ],
   "source": [
    "model = keras.Model(inputs=inputs, outputs=outputs, name=\"mlp_b_h\")\n",
    "model.compile(loss=keras.losses.MeanSquaredError(reduction=\"auto\"),\n",
    "              optimizer=keras.optimizers.Adam(), metrics=tf.keras.metrics.RootMeanSquaredError())\n",
    "model.fit(X_train, Y_train, batch_size=32,epochs=10)"
   ]
  },
  {
   "cell_type": "code",
   "execution_count": 16,
   "metadata": {
    "execution": {
     "iopub.execute_input": "2021-03-11T10:34:57.213165Z",
     "iopub.status.busy": "2021-03-11T10:34:57.212154Z",
     "iopub.status.idle": "2021-03-11T10:34:57.354044Z",
     "shell.execute_reply": "2021-03-11T10:34:57.353030Z"
    },
    "papermill": {
     "duration": 0.250248,
     "end_time": "2021-03-11T10:34:57.354197",
     "exception": false,
     "start_time": "2021-03-11T10:34:57.103949",
     "status": "completed"
    },
    "tags": []
   },
   "outputs": [
    {
     "name": "stdout",
     "output_type": "stream",
     "text": [
      "4/4 - 0s - loss: 16.1515 - root_mean_squared_error: 4.0189\n"
     ]
    }
   ],
   "source": [
    "test_scores = model.evaluate(x_test, y_test, verbose=2)"
   ]
  },
  {
   "cell_type": "markdown",
   "metadata": {
    "papermill": {
     "duration": 0.098918,
     "end_time": "2021-03-11T10:34:57.552409",
     "exception": false,
     "start_time": "2021-03-11T10:34:57.453491",
     "status": "completed"
    },
    "tags": []
   },
   "source": [
    "# Model subclassing method"
   ]
  },
  {
   "cell_type": "code",
   "execution_count": 17,
   "metadata": {
    "execution": {
     "iopub.execute_input": "2021-03-11T10:34:57.760061Z",
     "iopub.status.busy": "2021-03-11T10:34:57.759361Z",
     "iopub.status.idle": "2021-03-11T10:34:57.769221Z",
     "shell.execute_reply": "2021-03-11T10:34:57.769762Z"
    },
    "papermill": {
     "duration": 0.118907,
     "end_time": "2021-03-11T10:34:57.769970",
     "exception": false,
     "start_time": "2021-03-11T10:34:57.651063",
     "status": "completed"
    },
    "tags": []
   },
   "outputs": [],
   "source": [
    "class MyModel(keras.Model):\n",
    "    \n",
    "    def __init__(self):\n",
    "        super(MyModel, self).__init__()\n",
    "        self.norm = layers.experimental.preprocessing.Normalization()\n",
    "        self.dense_1 = layers.Dense(20, activation='relu')\n",
    "        self.drop_1 = layers.Dropout(0.2)\n",
    "        self.dense_2 = layers.Dense(20, activation='relu')\n",
    "        self.drop_2 = layers.Dropout(0.2)\n",
    "        self.dense_3 = layers.Dense(1, activation='softmax')\n",
    "        \n",
    "    def call(self, inputs):\n",
    "        self.norm.adapt(x_train)\n",
    "        x = self.norm(inputs)\n",
    "        x = self.dense_1(x)\n",
    "        x = self.drop_1(x)\n",
    "        x = self.dense_2(x)\n",
    "        x = self.drop_2(x)\n",
    "        return self.dense_3(x)\n",
    "    \n",
    "opt = keras.optimizers.Adam()\n",
    "loss = keras.losses.MeanSquaredError(reduction=\"auto\")\n",
    "metrics = keras.metrics.RootMeanSquaredError()"
   ]
  },
  {
   "cell_type": "code",
   "execution_count": 18,
   "metadata": {
    "execution": {
     "iopub.execute_input": "2021-03-11T10:34:57.973883Z",
     "iopub.status.busy": "2021-03-11T10:34:57.973152Z",
     "iopub.status.idle": "2021-03-11T10:35:07.372339Z",
     "shell.execute_reply": "2021-03-11T10:35:07.372866Z"
    },
    "papermill": {
     "duration": 9.501667,
     "end_time": "2021-03-11T10:35:07.373061",
     "exception": false,
     "start_time": "2021-03-11T10:34:57.871394",
     "status": "completed"
    },
    "tags": []
   },
   "outputs": [
    {
     "name": "stdout",
     "output_type": "stream",
     "text": [
      "Epoch 1/10\n",
      "12/12 [==============================] - 1s 1ms/step - loss: 552.1399 - root_mean_squared_error: 23.4971\n",
      "Epoch 2/10\n",
      "12/12 [==============================] - 0s 2ms/step - loss: 542.6127 - root_mean_squared_error: 23.2857\n",
      "Epoch 3/10\n",
      "12/12 [==============================] - 0s 2ms/step - loss: 551.0390 - root_mean_squared_error: 23.4720\n",
      "Epoch 4/10\n",
      "12/12 [==============================] - 0s 1ms/step - loss: 567.7944 - root_mean_squared_error: 23.8255\n",
      "Epoch 5/10\n",
      "12/12 [==============================] - 0s 2ms/step - loss: 527.4428 - root_mean_squared_error: 22.9571\n",
      "Epoch 6/10\n",
      "12/12 [==============================] - 0s 1ms/step - loss: 594.4348 - root_mean_squared_error: 24.3666\n",
      "Epoch 7/10\n",
      "12/12 [==============================] - 0s 2ms/step - loss: 532.9016 - root_mean_squared_error: 23.0808\n",
      "Epoch 8/10\n",
      "12/12 [==============================] - 0s 1ms/step - loss: 567.5647 - root_mean_squared_error: 23.8223\n",
      "Epoch 9/10\n",
      "12/12 [==============================] - 0s 2ms/step - loss: 571.4821 - root_mean_squared_error: 23.9015\n",
      "Epoch 10/10\n",
      "12/12 [==============================] - 0s 1ms/step - loss: 563.7377 - root_mean_squared_error: 23.7405\n",
      "2/2 [==============================] - 0s 3ms/step - loss: 437.3554 - root_mean_squared_error: 20.9130\n",
      "Epoch 1/10\n",
      "12/12 [==============================] - 1s 2ms/step - loss: 538.1292 - root_mean_squared_error: 22.7178\n",
      "Epoch 2/10\n",
      "12/12 [==============================] - 0s 2ms/step - loss: 533.1334 - root_mean_squared_error: 23.0846\n",
      "Epoch 3/10\n",
      "12/12 [==============================] - 0s 2ms/step - loss: 552.3276 - root_mean_squared_error: 23.4928\n",
      "Epoch 4/10\n",
      "12/12 [==============================] - 0s 2ms/step - loss: 501.6657 - root_mean_squared_error: 22.3890\n",
      "Epoch 5/10\n",
      "12/12 [==============================] - 0s 2ms/step - loss: 541.9054 - root_mean_squared_error: 23.2754\n",
      "Epoch 6/10\n",
      "12/12 [==============================] - 0s 2ms/step - loss: 546.6645 - root_mean_squared_error: 23.3785\n",
      "Epoch 7/10\n",
      "12/12 [==============================] - 0s 2ms/step - loss: 522.8941 - root_mean_squared_error: 22.8574\n",
      "Epoch 8/10\n",
      "12/12 [==============================] - 0s 2ms/step - loss: 505.6724 - root_mean_squared_error: 22.4788\n",
      "Epoch 9/10\n",
      "12/12 [==============================] - 0s 2ms/step - loss: 533.9400 - root_mean_squared_error: 23.1040\n",
      "Epoch 10/10\n",
      "12/12 [==============================] - 0s 2ms/step - loss: 517.0509 - root_mean_squared_error: 22.7355\n",
      "2/2 [==============================] - 0s 5ms/step - loss: 604.7253 - root_mean_squared_error: 24.5912\n",
      "Epoch 1/10\n",
      "12/12 [==============================] - 0s 2ms/step - loss: 531.7661 - root_mean_squared_error: 23.4002\n",
      "Epoch 2/10\n",
      "12/12 [==============================] - 0s 2ms/step - loss: 538.9632 - root_mean_squared_error: 23.2111\n",
      "Epoch 3/10\n",
      "12/12 [==============================] - 0s 2ms/step - loss: 535.0639 - root_mean_squared_error: 23.1275\n",
      "Epoch 4/10\n",
      "12/12 [==============================] - 0s 2ms/step - loss: 533.5622 - root_mean_squared_error: 23.0972\n",
      "Epoch 5/10\n",
      "12/12 [==============================] - 0s 2ms/step - loss: 531.4622 - root_mean_squared_error: 23.0459\n",
      "Epoch 6/10\n",
      "12/12 [==============================] - 0s 2ms/step - loss: 545.4936 - root_mean_squared_error: 23.3504\n",
      "Epoch 7/10\n",
      "12/12 [==============================] - 0s 2ms/step - loss: 529.0646 - root_mean_squared_error: 22.9902\n",
      "Epoch 8/10\n",
      "12/12 [==============================] - 0s 2ms/step - loss: 563.0933 - root_mean_squared_error: 23.7248\n",
      "Epoch 9/10\n",
      "12/12 [==============================] - 0s 2ms/step - loss: 575.0515 - root_mean_squared_error: 23.9683\n",
      "Epoch 10/10\n",
      "12/12 [==============================] - 0s 2ms/step - loss: 542.8904 - root_mean_squared_error: 23.2937\n",
      "2/2 [==============================] - 0s 4ms/step - loss: 522.7273 - root_mean_squared_error: 22.8632\n",
      "Epoch 1/10\n",
      "12/12 [==============================] - 0s 2ms/step - loss: 572.3493 - root_mean_squared_error: 23.5840\n",
      "Epoch 2/10\n",
      "12/12 [==============================] - 0s 2ms/step - loss: 545.0786 - root_mean_squared_error: 23.3423\n",
      "Epoch 3/10\n",
      "12/12 [==============================] - 0s 2ms/step - loss: 536.4526 - root_mean_squared_error: 23.1594\n",
      "Epoch 4/10\n",
      "12/12 [==============================] - 0s 2ms/step - loss: 585.4340 - root_mean_squared_error: 24.1890\n",
      "Epoch 5/10\n",
      "12/12 [==============================] - 0s 2ms/step - loss: 580.0804 - root_mean_squared_error: 24.0702\n",
      "Epoch 6/10\n",
      "12/12 [==============================] - 0s 2ms/step - loss: 554.6166 - root_mean_squared_error: 23.5468\n",
      "Epoch 7/10\n",
      "12/12 [==============================] - 0s 2ms/step - loss: 552.4776 - root_mean_squared_error: 23.5023\n",
      "Epoch 8/10\n",
      "12/12 [==============================] - 0s 2ms/step - loss: 579.1784 - root_mean_squared_error: 24.0559\n",
      "Epoch 9/10\n",
      "12/12 [==============================] - 0s 2ms/step - loss: 572.5364 - root_mean_squared_error: 23.9225\n",
      "Epoch 10/10\n",
      "12/12 [==============================] - 0s 1ms/step - loss: 557.0383 - root_mean_squared_error: 23.5980\n",
      "2/2 [==============================] - 0s 3ms/step - loss: 497.5827 - root_mean_squared_error: 22.3066\n",
      "Epoch 1/10\n",
      "12/12 [==============================] - 0s 2ms/step - loss: 558.9548 - root_mean_squared_error: 23.3641\n",
      "Epoch 2/10\n",
      "12/12 [==============================] - 0s 2ms/step - loss: 562.3917 - root_mean_squared_error: 23.7012\n",
      "Epoch 3/10\n",
      "12/12 [==============================] - 0s 2ms/step - loss: 536.8407 - root_mean_squared_error: 23.1527\n",
      "Epoch 4/10\n",
      "12/12 [==============================] - 0s 2ms/step - loss: 524.0164 - root_mean_squared_error: 22.8747\n",
      "Epoch 5/10\n",
      "12/12 [==============================] - 0s 2ms/step - loss: 525.8881 - root_mean_squared_error: 22.9294\n",
      "Epoch 6/10\n",
      "12/12 [==============================] - 0s 2ms/step - loss: 574.8143 - root_mean_squared_error: 23.9624\n",
      "Epoch 7/10\n",
      "12/12 [==============================] - 0s 2ms/step - loss: 558.2521 - root_mean_squared_error: 23.6241\n",
      "Epoch 8/10\n",
      "12/12 [==============================] - 0s 2ms/step - loss: 579.7133 - root_mean_squared_error: 24.0722\n",
      "Epoch 9/10\n",
      "12/12 [==============================] - 0s 2ms/step - loss: 547.4066 - root_mean_squared_error: 23.3953\n",
      "Epoch 10/10\n",
      "12/12 [==============================] - 0s 2ms/step - loss: 570.4043 - root_mean_squared_error: 23.8749\n",
      "2/2 [==============================] - 0s 3ms/step - loss: 522.1368 - root_mean_squared_error: 22.8503\n",
      "Epoch 1/10\n",
      "12/12 [==============================] - 0s 2ms/step - loss: 545.4496 - root_mean_squared_error: 23.2813\n",
      "Epoch 2/10\n",
      "12/12 [==============================] - 0s 1ms/step - loss: 562.1106 - root_mean_squared_error: 23.7067\n",
      "Epoch 3/10\n",
      "12/12 [==============================] - 0s 2ms/step - loss: 558.1678 - root_mean_squared_error: 23.6223\n",
      "Epoch 4/10\n",
      "12/12 [==============================] - 0s 1ms/step - loss: 572.3439 - root_mean_squared_error: 23.9179\n",
      "Epoch 5/10\n",
      "12/12 [==============================] - 0s 1ms/step - loss: 513.7858 - root_mean_squared_error: 22.6602\n",
      "Epoch 6/10\n",
      "12/12 [==============================] - 0s 2ms/step - loss: 524.6898 - root_mean_squared_error: 22.8997\n",
      "Epoch 7/10\n",
      "12/12 [==============================] - 0s 2ms/step - loss: 510.5978 - root_mean_squared_error: 22.5758\n",
      "Epoch 8/10\n",
      "12/12 [==============================] - 0s 2ms/step - loss: 568.5775 - root_mean_squared_error: 23.8418\n",
      "Epoch 9/10\n",
      "12/12 [==============================] - 0s 2ms/step - loss: 536.5355 - root_mean_squared_error: 23.1497\n",
      "Epoch 10/10\n",
      "12/12 [==============================] - 0s 1ms/step - loss: 526.0361 - root_mean_squared_error: 22.9255\n",
      "2/2 [==============================] - 0s 4ms/step - loss: 509.3902 - root_mean_squared_error: 22.5697\n",
      "Epoch 1/10\n",
      "12/12 [==============================] - 0s 2ms/step - loss: 546.4754 - root_mean_squared_error: 23.2196\n",
      "Epoch 2/10\n",
      "12/12 [==============================] - 0s 2ms/step - loss: 540.8445 - root_mean_squared_error: 23.2547\n",
      "Epoch 3/10\n",
      "12/12 [==============================] - 0s 2ms/step - loss: 574.5619 - root_mean_squared_error: 23.9626\n",
      "Epoch 4/10\n",
      "12/12 [==============================] - 0s 2ms/step - loss: 580.3551 - root_mean_squared_error: 24.0794\n",
      "Epoch 5/10\n",
      "12/12 [==============================] - 0s 2ms/step - loss: 572.8919 - root_mean_squared_error: 23.9297\n",
      "Epoch 6/10\n",
      "12/12 [==============================] - 0s 2ms/step - loss: 539.6784 - root_mean_squared_error: 23.2298\n",
      "Epoch 7/10\n",
      "12/12 [==============================] - 0s 2ms/step - loss: 523.7587 - root_mean_squared_error: 22.8788\n",
      "Epoch 8/10\n",
      "12/12 [==============================] - 0s 2ms/step - loss: 539.2459 - root_mean_squared_error: 23.1998\n",
      "Epoch 9/10\n",
      "12/12 [==============================] - 0s 2ms/step - loss: 560.0184 - root_mean_squared_error: 23.6472\n",
      "Epoch 10/10\n",
      "12/12 [==============================] - 0s 1ms/step - loss: 564.5390 - root_mean_squared_error: 23.7565\n",
      "2/2 [==============================] - 0s 3ms/step - loss: 464.0282 - root_mean_squared_error: 21.5413\n",
      "Epoch 1/10\n",
      "12/12 [==============================] - 0s 2ms/step - loss: 534.9877 - root_mean_squared_error: 22.8192\n",
      "Epoch 2/10\n",
      "12/12 [==============================] - 0s 2ms/step - loss: 528.5219 - root_mean_squared_error: 22.9803\n",
      "Epoch 3/10\n",
      "12/12 [==============================] - 0s 1ms/step - loss: 554.5437 - root_mean_squared_error: 23.5434\n",
      "Epoch 4/10\n",
      "12/12 [==============================] - 0s 2ms/step - loss: 531.7696 - root_mean_squared_error: 23.0585\n",
      "Epoch 5/10\n",
      "12/12 [==============================] - 0s 2ms/step - loss: 516.9205 - root_mean_squared_error: 22.7330\n",
      "Epoch 6/10\n",
      "12/12 [==============================] - 0s 2ms/step - loss: 530.1310 - root_mean_squared_error: 23.0236\n",
      "Epoch 7/10\n",
      "12/12 [==============================] - 0s 2ms/step - loss: 528.7951 - root_mean_squared_error: 22.9946\n",
      "Epoch 8/10\n",
      "12/12 [==============================] - 0s 1ms/step - loss: 488.1806 - root_mean_squared_error: 22.0685\n",
      "Epoch 9/10\n",
      "12/12 [==============================] - 0s 2ms/step - loss: 517.2966 - root_mean_squared_error: 22.7409\n",
      "Epoch 10/10\n",
      "12/12 [==============================] - 0s 2ms/step - loss: 532.6649 - root_mean_squared_error: 23.0709\n",
      "2/2 [==============================] - 0s 3ms/step - loss: 663.2795 - root_mean_squared_error: 25.7542\n",
      "Epoch 1/10\n",
      "12/12 [==============================] - 0s 1ms/step - loss: 523.8183 - root_mean_squared_error: 23.5843\n",
      "Epoch 2/10\n",
      "12/12 [==============================] - 0s 2ms/step - loss: 533.1160 - root_mean_squared_error: 23.0858\n",
      "Epoch 3/10\n",
      "12/12 [==============================] - 0s 2ms/step - loss: 546.0102 - root_mean_squared_error: 23.3660\n",
      "Epoch 4/10\n",
      "12/12 [==============================] - 0s 2ms/step - loss: 531.8939 - root_mean_squared_error: 23.0534\n",
      "Epoch 5/10\n",
      "12/12 [==============================] - 0s 2ms/step - loss: 522.7371 - root_mean_squared_error: 22.8599\n",
      "Epoch 6/10\n",
      "12/12 [==============================] - 0s 2ms/step - loss: 536.6653 - root_mean_squared_error: 23.1611\n",
      "Epoch 7/10\n",
      "12/12 [==============================] - 0s 2ms/step - loss: 543.3509 - root_mean_squared_error: 23.3077\n",
      "Epoch 8/10\n",
      "12/12 [==============================] - 0s 2ms/step - loss: 564.1487 - root_mean_squared_error: 23.7498\n",
      "Epoch 9/10\n",
      "12/12 [==============================] - 0s 2ms/step - loss: 563.6598 - root_mean_squared_error: 23.7124\n",
      "Epoch 10/10\n",
      "12/12 [==============================] - 0s 2ms/step - loss: 547.2427 - root_mean_squared_error: 23.3805\n",
      "2/2 [==============================] - 0s 3ms/step - loss: 522.0550 - root_mean_squared_error: 22.8485\n",
      "Epoch 1/10\n",
      "12/12 [==============================] - 0s 2ms/step - loss: 539.3618 - root_mean_squared_error: 23.0553\n",
      "Epoch 2/10\n",
      "12/12 [==============================] - 0s 2ms/step - loss: 509.8085 - root_mean_squared_error: 22.5640\n",
      "Epoch 3/10\n",
      "12/12 [==============================] - 0s 2ms/step - loss: 517.3639 - root_mean_squared_error: 22.7442\n",
      "Epoch 4/10\n",
      "12/12 [==============================] - 0s 2ms/step - loss: 509.1679 - root_mean_squared_error: 22.5614\n",
      "Epoch 5/10\n",
      "12/12 [==============================] - 0s 2ms/step - loss: 532.8874 - root_mean_squared_error: 23.0801\n",
      "Epoch 6/10\n",
      "12/12 [==============================] - 0s 2ms/step - loss: 555.1796 - root_mean_squared_error: 23.5428\n",
      "Epoch 7/10\n",
      "12/12 [==============================] - 0s 2ms/step - loss: 531.6094 - root_mean_squared_error: 23.0519\n",
      "Epoch 8/10\n",
      "12/12 [==============================] - 0s 2ms/step - loss: 537.6343 - root_mean_squared_error: 23.1804\n",
      "Epoch 9/10\n",
      "12/12 [==============================] - 0s 2ms/step - loss: 539.7526 - root_mean_squared_error: 23.2278\n",
      "Epoch 10/10\n",
      "12/12 [==============================] - 0s 2ms/step - loss: 525.6452 - root_mean_squared_error: 22.9213\n",
      "2/2 [==============================] - 0s 3ms/step - loss: 679.0397 - root_mean_squared_error: 26.0584\n"
     ]
    }
   ],
   "source": [
    "score_mlp = []\n",
    "kf = KFold(n_splits=10)\n",
    "for train_index, valid_index in kf.split(x_train):\n",
    "    mlp = MyModel()\n",
    "    mlp.compile(optimizer=opt, loss=loss, metrics=metrics)\n",
    "    X_train, X_valid = x_train[train_index], x_train[valid_index]\n",
    "    Y_train, Y_valid = y_train[train_index], y_train[valid_index]    \n",
    "    score_mlp.append(get_scores(mlp, X_train, Y_train, X_valid, Y_valid))"
   ]
  },
  {
   "cell_type": "code",
   "execution_count": 19,
   "metadata": {
    "execution": {
     "iopub.execute_input": "2021-03-11T10:35:07.730142Z",
     "iopub.status.busy": "2021-03-11T10:35:07.729365Z",
     "iopub.status.idle": "2021-03-11T10:35:07.733635Z",
     "shell.execute_reply": "2021-03-11T10:35:07.732981Z"
    },
    "papermill": {
     "duration": 0.186207,
     "end_time": "2021-03-11T10:35:07.733776",
     "exception": false,
     "start_time": "2021-03-11T10:35:07.547569",
     "status": "completed"
    },
    "tags": []
   },
   "outputs": [
    {
     "name": "stdout",
     "output_type": "stream",
     "text": [
      "Mean loss & metric equal: [542.23202209  23.22964306]\n"
     ]
    }
   ],
   "source": [
    "mlp_mean_score = np.array(score_mlp).mean(axis=0)\n",
    "print(f\"Mean loss & metric equal: {mlp_mean_score}\")"
   ]
  },
  {
   "cell_type": "code",
   "execution_count": 20,
   "metadata": {
    "execution": {
     "iopub.execute_input": "2021-03-11T10:35:08.097162Z",
     "iopub.status.busy": "2021-03-11T10:35:08.096053Z",
     "iopub.status.idle": "2021-03-11T10:35:08.843054Z",
     "shell.execute_reply": "2021-03-11T10:35:08.843522Z"
    },
    "papermill": {
     "duration": 0.932708,
     "end_time": "2021-03-11T10:35:08.843722",
     "exception": false,
     "start_time": "2021-03-11T10:35:07.911014",
     "status": "completed"
    },
    "tags": []
   },
   "outputs": [
    {
     "name": "stdout",
     "output_type": "stream",
     "text": [
      "Epoch 1/10\n",
      "13/13 [==============================] - 0s 2ms/step - loss: 542.4357 - root_mean_squared_error: 23.8090\n",
      "Epoch 2/10\n",
      "13/13 [==============================] - 0s 2ms/step - loss: 523.3376 - root_mean_squared_error: 22.8735\n",
      "Epoch 3/10\n",
      "13/13 [==============================] - 0s 2ms/step - loss: 526.5263 - root_mean_squared_error: 22.9366\n",
      "Epoch 4/10\n",
      "13/13 [==============================] - 0s 2ms/step - loss: 517.8839 - root_mean_squared_error: 22.7323\n",
      "Epoch 5/10\n",
      "13/13 [==============================] - 0s 2ms/step - loss: 559.1424 - root_mean_squared_error: 23.6423\n",
      "Epoch 6/10\n",
      "13/13 [==============================] - 0s 1ms/step - loss: 557.0449 - root_mean_squared_error: 23.5752\n",
      "Epoch 7/10\n",
      "13/13 [==============================] - 0s 1ms/step - loss: 545.2420 - root_mean_squared_error: 23.3482\n",
      "Epoch 8/10\n",
      "13/13 [==============================] - 0s 2ms/step - loss: 543.2881 - root_mean_squared_error: 23.3041\n",
      "Epoch 9/10\n",
      "13/13 [==============================] - 0s 2ms/step - loss: 548.7969 - root_mean_squared_error: 23.4228\n",
      "Epoch 10/10\n",
      "13/13 [==============================] - 0s 2ms/step - loss: 533.1940 - root_mean_squared_error: 23.0776\n"
     ]
    },
    {
     "data": {
      "text/plain": [
       "<tensorflow.python.keras.callbacks.History at 0x7eff2403e590>"
      ]
     },
     "execution_count": 20,
     "metadata": {},
     "output_type": "execute_result"
    }
   ],
   "source": [
    "mlp = MyModel()\n",
    "mlp.compile(optimizer=opt, loss=loss, metrics=metrics)\n",
    "mlp.fit(x_train, y_train, epochs=10, batch_size=32)"
   ]
  },
  {
   "cell_type": "code",
   "execution_count": 21,
   "metadata": {
    "execution": {
     "iopub.execute_input": "2021-03-11T10:35:09.210021Z",
     "iopub.status.busy": "2021-03-11T10:35:09.209272Z",
     "iopub.status.idle": "2021-03-11T10:35:09.343399Z",
     "shell.execute_reply": "2021-03-11T10:35:09.344134Z"
    },
    "papermill": {
     "duration": 0.321492,
     "end_time": "2021-03-11T10:35:09.344361",
     "exception": false,
     "start_time": "2021-03-11T10:35:09.022869",
     "status": "completed"
    },
    "tags": []
   },
   "outputs": [
    {
     "name": "stdout",
     "output_type": "stream",
     "text": [
      "4/4 - 0s - loss: 572.2935 - root_mean_squared_error: 23.9227\n"
     ]
    }
   ],
   "source": [
    "test_scores = mlp.evaluate(x_test, y_test, verbose=2)"
   ]
  },
  {
   "cell_type": "code",
   "execution_count": 22,
   "metadata": {
    "execution": {
     "iopub.execute_input": "2021-03-11T10:35:09.708514Z",
     "iopub.status.busy": "2021-03-11T10:35:09.707834Z",
     "iopub.status.idle": "2021-03-11T10:35:09.712477Z",
     "shell.execute_reply": "2021-03-11T10:35:09.711871Z"
    },
    "papermill": {
     "duration": 0.189488,
     "end_time": "2021-03-11T10:35:09.712637",
     "exception": false,
     "start_time": "2021-03-11T10:35:09.523149",
     "status": "completed"
    },
    "tags": []
   },
   "outputs": [
    {
     "data": {
      "text/plain": [
       "array([[1223.4044075 ],\n",
       "       [ 758.4830761 ],\n",
       "       [ 535.18242836],\n",
       "       [ 365.84141254],\n",
       "       [ 302.7705431 ],\n",
       "       [ 566.19052887],\n",
       "       [ 300.50439835],\n",
       "       [ 536.09743118],\n",
       "       [ 296.53544426],\n",
       "       [ 353.77132893]])"
      ]
     },
     "execution_count": 22,
     "metadata": {},
     "output_type": "execute_result"
    }
   ],
   "source": [
    "np.array(score_models)[:, 1:]* 100"
   ]
  },
  {
   "cell_type": "code",
   "execution_count": 23,
   "metadata": {
    "execution": {
     "iopub.execute_input": "2021-03-11T10:35:10.113715Z",
     "iopub.status.busy": "2021-03-11T10:35:10.112933Z",
     "iopub.status.idle": "2021-03-11T10:35:10.360050Z",
     "shell.execute_reply": "2021-03-11T10:35:10.359390Z"
    },
    "papermill": {
     "duration": 0.457974,
     "end_time": "2021-03-11T10:35:10.360201",
     "exception": false,
     "start_time": "2021-03-11T10:35:09.902227",
     "status": "completed"
    },
    "tags": []
   },
   "outputs": [
    {
     "data": {
      "text/plain": [
       "<matplotlib.legend.Legend at 0x7eff1c0c2550>"
      ]
     },
     "execution_count": 23,
     "metadata": {},
     "output_type": "execute_result"
    },
    {
     "data": {
      "image/png": "[encoded data removed]",
      "text/plain": [
       "<Figure size 720x432 with 1 Axes>"
      ]
     },
     "metadata": {},
     "output_type": "display_data"
    }
   ],
   "source": [
    "N = np.arange(0, 10)\n",
    "title = \"Training Loss and Accuracy MLP\"\n",
    "\n",
    "plt.style.use(\"ggplot\")\n",
    "plt.figure(figsize=(10,6))\n",
    "plt.plot(N, np.array(score_models)[:, :1], label=\"Functional_API_loss\")\n",
    "plt.plot(N, np.array(score_mlp)[:, :1], label=\"Model subclassing_loss\")\n",
    "plt.plot(N, np.array(score_models)[:, 1:] * 10, label=\"Functional_API_acc\")\n",
    "plt.plot(N, np.array(score_mlp)[:, 1:] * 10, label=\"Model subclassing_acc\")\n",
    "plt.title(title)\n",
    "plt.xlabel(\"Epochs\")\n",
    "plt.ylabel(\"Loss/Accuracy\")\n",
    "plt.legend()"
   ]
  }
 ],
 "metadata": {
  "kernelspec": {
   "display_name": "Python 3",
   "language": "python",
   "name": "python3"
  },
  "language_info": {
   "codemirror_mode": {
    "name": "ipython",
    "version": 3
   },
   "file_extension": ".py",
   "mimetype": "text/x-python",
   "name": "python",
   "nbconvert_exporter": "python",
   "pygments_lexer": "ipython3",
   "version": "3.7.9"
  },
  "papermill": {
   "default_parameters": {},
   "duration": 42.064917,
   "end_time": "2021-03-11T10:35:11.853733",
   "environment_variables": {},
   "exception": null,
   "input_path": "__notebook__.ipynb",
   "output_path": "__notebook__.ipynb",
   "parameters": {},
   "start_time": "2021-03-11T10:34:29.788816",
   "version": "2.2.2"
  }
 },
 "nbformat": 4,
 "nbformat_minor": 4
}
