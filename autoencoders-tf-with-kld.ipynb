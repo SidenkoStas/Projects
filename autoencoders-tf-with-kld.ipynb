{
 "cells": [
  {
   "cell_type": "markdown",
   "id": "hispanic-backup",
   "metadata": {
    "papermill": {
     "duration": 0.017934,
     "end_time": "2021-03-20T11:08:34.643974",
     "exception": false,
     "start_time": "2021-03-20T11:08:34.626040",
     "status": "completed"
    },
    "tags": []
   },
   "source": [
    "## Import libraries"
   ]
  },
  {
   "cell_type": "code",
   "execution_count": 1,
   "id": "collective-australia",
   "metadata": {
    "execution": {
     "iopub.execute_input": "2021-03-20T11:08:34.686418Z",
     "iopub.status.busy": "2021-03-20T11:08:34.685906Z",
     "iopub.status.idle": "2021-03-20T11:08:40.685107Z",
     "shell.execute_reply": "2021-03-20T11:08:40.684235Z"
    },
    "papermill": {
     "duration": 6.023788,
     "end_time": "2021-03-20T11:08:40.685274",
     "exception": false,
     "start_time": "2021-03-20T11:08:34.661486",
     "status": "completed"
    },
    "tags": []
   },
   "outputs": [],
   "source": [
    "import matplotlib.pyplot as plt\n",
    "import numpy as np\n",
    "import pandas as pd\n",
    "import tensorflow as tf\n",
    "\n",
    "from sklearn.metrics import accuracy_score, precision_score, recall_score\n",
    "from sklearn.model_selection import train_test_split\n",
    "from tensorflow.keras import layers, losses, optimizers\n",
    "from tensorflow.keras.models import Model\n",
    "from tensorflow.keras.datasets import fashion_mnist"
   ]
  },
  {
   "cell_type": "markdown",
   "id": "answering-screw",
   "metadata": {
    "papermill": {
     "duration": 0.017413,
     "end_time": "2021-03-20T11:08:40.720454",
     "exception": false,
     "start_time": "2021-03-20T11:08:40.703041",
     "status": "completed"
    },
    "tags": []
   },
   "source": [
    "## Load data"
   ]
  },
  {
   "cell_type": "code",
   "execution_count": 2,
   "id": "tropical-highlight",
   "metadata": {
    "execution": {
     "iopub.execute_input": "2021-03-20T11:08:40.760814Z",
     "iopub.status.busy": "2021-03-20T11:08:40.760158Z",
     "iopub.status.idle": "2021-03-20T11:08:42.223962Z",
     "shell.execute_reply": "2021-03-20T11:08:42.223475Z"
    },
    "papermill": {
     "duration": 1.486553,
     "end_time": "2021-03-20T11:08:42.224100",
     "exception": false,
     "start_time": "2021-03-20T11:08:40.737547",
     "status": "completed"
    },
    "tags": []
   },
   "outputs": [
    {
     "name": "stdout",
     "output_type": "stream",
     "text": [
      "Downloading data from https://storage.googleapis.com/tensorflow/tf-keras-datasets/train-labels-idx1-ubyte.gz\n",
      "32768/29515 [=================================] - 0s 0us/step\n",
      "Downloading data from https://storage.googleapis.com/tensorflow/tf-keras-datasets/train-images-idx3-ubyte.gz\n",
      "26427392/26421880 [==============================] - 0s 0us/step\n",
      "Downloading data from https://storage.googleapis.com/tensorflow/tf-keras-datasets/t10k-labels-idx1-ubyte.gz\n",
      "8192/5148 [===============================================] - 0s 0us/step\n",
      "Downloading data from https://storage.googleapis.com/tensorflow/tf-keras-datasets/t10k-images-idx3-ubyte.gz\n",
      "4423680/4422102 [==============================] - 0s 0us/step\n",
      "(60000, 28, 28)\n",
      "(10000, 28, 28)\n"
     ]
    }
   ],
   "source": [
    "(x_train, _), (x_test, _) = fashion_mnist.load_data()\n",
    "\n",
    "x_train = x_train.astype(\"float32\") / x_train.max() # Normalizaion(0, 1)\n",
    "x_test = x_test.astype(\"float32\") / x_test.max()\n",
    "print(x_train.shape)\n",
    "print(x_test.shape)"
   ]
  },
  {
   "cell_type": "markdown",
   "id": "abroad-rental",
   "metadata": {
    "papermill": {
     "duration": 0.022681,
     "end_time": "2021-03-20T11:08:42.271657",
     "exception": false,
     "start_time": "2021-03-20T11:08:42.248976",
     "status": "completed"
    },
    "tags": []
   },
   "source": [
    "## Crate Decoder and Encoder"
   ]
  },
  {
   "cell_type": "code",
   "execution_count": 3,
   "id": "married-plant",
   "metadata": {
    "execution": {
     "iopub.execute_input": "2021-03-20T11:08:42.328288Z",
     "iopub.status.busy": "2021-03-20T11:08:42.327342Z",
     "iopub.status.idle": "2021-03-20T11:08:42.330550Z",
     "shell.execute_reply": "2021-03-20T11:08:42.330011Z"
    },
    "papermill": {
     "duration": 0.035566,
     "end_time": "2021-03-20T11:08:42.330679",
     "exception": false,
     "start_time": "2021-03-20T11:08:42.295113",
     "status": "completed"
    },
    "tags": []
   },
   "outputs": [],
   "source": [
    "latent_dim = 64\n",
    "\n",
    "class Encoder(Model):\n",
    "    '''\n",
    "    Encoder class, get only dimension of laten layer.\n",
    "    '''\n",
    "    \n",
    "    def __init__(self, latent_dim):\n",
    "        super(Encoder, self).__init__()\n",
    "        self.flatten = layers.Flatten()\n",
    "        self.encod = layers.Dense(latent_dim, activation='relu')\n",
    "        \n",
    "    def call(self, x):\n",
    "        x = self.flatten(x)\n",
    "        return self.encod(x)\n",
    "\n",
    "    \n",
    "class Decoder(Model):\n",
    "    '''\n",
    "    Decoder class.\n",
    "    '''\n",
    "    \n",
    "    def __init__(self):\n",
    "        super(Decoder, self).__init__()\n",
    "        self.decod = layers.Dense(28*28, activation='sigmoid')\n",
    "        self.reshape = layers.Reshape((28, 28))\n",
    "        \n",
    "    def call(self, x):\n",
    "        x = self.decod(x)\n",
    "        return self.reshape(x)"
   ]
  },
  {
   "cell_type": "markdown",
   "id": "stretch-kenya",
   "metadata": {
    "papermill": {
     "duration": 0.023032,
     "end_time": "2021-03-20T11:08:42.376896",
     "exception": false,
     "start_time": "2021-03-20T11:08:42.353864",
     "status": "completed"
    },
    "tags": []
   },
   "source": [
    "## Create model"
   ]
  },
  {
   "cell_type": "code",
   "execution_count": 4,
   "id": "domestic-mixture",
   "metadata": {
    "execution": {
     "iopub.execute_input": "2021-03-20T11:08:42.427675Z",
     "iopub.status.busy": "2021-03-20T11:08:42.426760Z",
     "iopub.status.idle": "2021-03-20T11:08:42.432321Z",
     "shell.execute_reply": "2021-03-20T11:08:42.432903Z"
    },
    "papermill": {
     "duration": 0.03276,
     "end_time": "2021-03-20T11:08:42.433070",
     "exception": false,
     "start_time": "2021-03-20T11:08:42.400310",
     "status": "completed"
    },
    "tags": []
   },
   "outputs": [],
   "source": [
    "class Autoencoder(Model):\n",
    "    '''\n",
    "    Autoncoder class, get only dimension of laten layer\n",
    "    '''\n",
    "    \n",
    "    def __init__(self, latent_dim):\n",
    "        super(Autoencoder, self).__init__()\n",
    "        self.encoder = Encoder(latent_dim)\n",
    "        self.decoder = Decoder()\n",
    "        \n",
    "    def call(self, x):\n",
    "        x = self.encoder(x)\n",
    "        return self.decoder(x)"
   ]
  },
  {
   "cell_type": "code",
   "execution_count": 5,
   "id": "organized-functionality",
   "metadata": {
    "execution": {
     "iopub.execute_input": "2021-03-20T11:08:42.483325Z",
     "iopub.status.busy": "2021-03-20T11:08:42.482383Z",
     "iopub.status.idle": "2021-03-20T11:08:42.530534Z",
     "shell.execute_reply": "2021-03-20T11:08:42.531076Z"
    },
    "papermill": {
     "duration": 0.074905,
     "end_time": "2021-03-20T11:08:42.531261",
     "exception": false,
     "start_time": "2021-03-20T11:08:42.456356",
     "status": "completed"
    },
    "tags": []
   },
   "outputs": [],
   "source": [
    "autoencoder = Autoencoder(latent_dim)#"
   ]
  },
  {
   "cell_type": "markdown",
   "id": "noted-buying",
   "metadata": {
    "papermill": {
     "duration": 0.023334,
     "end_time": "2021-03-20T11:08:42.578139",
     "exception": false,
     "start_time": "2021-03-20T11:08:42.554805",
     "status": "completed"
    },
    "tags": []
   },
   "source": [
    "## Create loss with Kullback-Leibler divergence"
   ]
  },
  {
   "cell_type": "code",
   "execution_count": 6,
   "id": "quantitative-legend",
   "metadata": {
    "execution": {
     "iopub.execute_input": "2021-03-20T11:08:42.628796Z",
     "iopub.status.busy": "2021-03-20T11:08:42.627865Z",
     "iopub.status.idle": "2021-03-20T11:08:42.635260Z",
     "shell.execute_reply": "2021-03-20T11:08:42.634755Z"
    },
    "papermill": {
     "duration": 0.033781,
     "end_time": "2021-03-20T11:08:42.635395",
     "exception": false,
     "start_time": "2021-03-20T11:08:42.601614",
     "status": "completed"
    },
    "tags": []
   },
   "outputs": [],
   "source": [
    "rho = 0.05\n",
    "\n",
    "class loss_with_KLD(losses.Loss):\n",
    "    '''\n",
    "    Class with Kullback-Leibler divergence added in loss function.\n",
    "    \n",
    "    Arguments:\n",
    "        rho = constant float\n",
    "    '''\n",
    "    def __init__(self, rho):\n",
    "        super(loss_with_KLD, self).__init__()\n",
    "        self.rho = rho\n",
    "        self.kl = losses.KLDivergence()\n",
    "        self.mse = losses.MeanSquaredError(reduction=tf.keras.losses.Reduction.SUM)\n",
    "        \n",
    "    def call(self, y_true, y_pred):\n",
    "        mse = self.mse(y_true, y_pred)\n",
    "        kl = self.kl(self.rho, y_pred)\n",
    "        return mse + kl"
   ]
  },
  {
   "cell_type": "markdown",
   "id": "naughty-leeds",
   "metadata": {
    "papermill": {
     "duration": 0.023623,
     "end_time": "2021-03-20T11:08:42.682487",
     "exception": false,
     "start_time": "2021-03-20T11:08:42.658864",
     "status": "completed"
    },
    "tags": []
   },
   "source": [
    "## Compile"
   ]
  },
  {
   "cell_type": "code",
   "execution_count": 7,
   "id": "determined-state",
   "metadata": {
    "execution": {
     "iopub.execute_input": "2021-03-20T11:08:42.742214Z",
     "iopub.status.busy": "2021-03-20T11:08:42.741509Z",
     "iopub.status.idle": "2021-03-20T11:08:42.751550Z",
     "shell.execute_reply": "2021-03-20T11:08:42.751019Z"
    },
    "papermill": {
     "duration": 0.045746,
     "end_time": "2021-03-20T11:08:42.751680",
     "exception": false,
     "start_time": "2021-03-20T11:08:42.705934",
     "status": "completed"
    },
    "tags": []
   },
   "outputs": [],
   "source": [
    "autoencoder.compile(optimizer='adam', loss=loss_with_KLD(rho))"
   ]
  },
  {
   "cell_type": "markdown",
   "id": "metallic-minnesota",
   "metadata": {
    "papermill": {
     "duration": 0.023525,
     "end_time": "2021-03-20T11:08:42.799252",
     "exception": false,
     "start_time": "2021-03-20T11:08:42.775727",
     "status": "completed"
    },
    "tags": []
   },
   "source": [
    "## Fit model"
   ]
  },
  {
   "cell_type": "code",
   "execution_count": 8,
   "id": "congressional-developer",
   "metadata": {
    "execution": {
     "iopub.execute_input": "2021-03-20T11:08:42.851875Z",
     "iopub.status.busy": "2021-03-20T11:08:42.851112Z",
     "iopub.status.idle": "2021-03-20T11:09:32.353430Z",
     "shell.execute_reply": "2021-03-20T11:09:32.353946Z"
    },
    "papermill": {
     "duration": 49.531134,
     "end_time": "2021-03-20T11:09:32.354120",
     "exception": false,
     "start_time": "2021-03-20T11:08:42.822986",
     "status": "completed"
    },
    "tags": []
   },
   "outputs": [
    {
     "name": "stdout",
     "output_type": "stream",
     "text": [
      "Epoch 1/10\n",
      "1875/1875 [==============================] - 6s 3ms/step - loss: 34.3079 - val_loss: 10.3437\n",
      "Epoch 2/10\n",
      "1875/1875 [==============================] - 5s 3ms/step - loss: 9.5701 - val_loss: 8.2686\n",
      "Epoch 3/10\n",
      "1875/1875 [==============================] - 5s 3ms/step - loss: 8.0502 - val_loss: 7.6899\n",
      "Epoch 4/10\n",
      "1875/1875 [==============================] - 5s 3ms/step - loss: 7.5377 - val_loss: 7.4723\n",
      "Epoch 5/10\n",
      "1875/1875 [==============================] - 5s 3ms/step - loss: 7.3196 - val_loss: 7.2921\n",
      "Epoch 6/10\n",
      "1875/1875 [==============================] - 5s 3ms/step - loss: 7.2543 - val_loss: 7.2149\n",
      "Epoch 7/10\n",
      "1875/1875 [==============================] - 5s 3ms/step - loss: 7.1458 - val_loss: 7.2030\n",
      "Epoch 8/10\n",
      "1875/1875 [==============================] - 5s 3ms/step - loss: 7.0794 - val_loss: 7.1131\n",
      "Epoch 9/10\n",
      "1875/1875 [==============================] - 5s 3ms/step - loss: 7.0520 - val_loss: 7.1074\n",
      "Epoch 10/10\n",
      "1875/1875 [==============================] - 5s 3ms/step - loss: 7.0577 - val_loss: 7.0383\n"
     ]
    },
    {
     "data": {
      "text/plain": [
       "<tensorflow.python.keras.callbacks.History at 0x7f9ad5ac9650>"
      ]
     },
     "execution_count": 8,
     "metadata": {},
     "output_type": "execute_result"
    }
   ],
   "source": [
    "autoencoder.fit(x_train, x_train,\n",
    "               epochs=10,\n",
    "               shuffle=True,\n",
    "               validation_data=(x_test, x_test))"
   ]
  },
  {
   "cell_type": "code",
   "execution_count": 9,
   "id": "level-pollution",
   "metadata": {
    "execution": {
     "iopub.execute_input": "2021-03-20T11:09:32.901711Z",
     "iopub.status.busy": "2021-03-20T11:09:32.901092Z",
     "iopub.status.idle": "2021-03-20T11:09:33.004292Z",
     "shell.execute_reply": "2021-03-20T11:09:33.003735Z"
    },
    "papermill": {
     "duration": 0.377675,
     "end_time": "2021-03-20T11:09:33.004442",
     "exception": false,
     "start_time": "2021-03-20T11:09:32.626767",
     "status": "completed"
    },
    "tags": []
   },
   "outputs": [],
   "source": [
    "# Save images after encoding and decoding separately for plotting.\n",
    "encoded_img = autoencoder.encoder(x_test).numpy()\n",
    "decoded_img = autoencoder.decoder(encoded_img).numpy()"
   ]
  },
  {
   "cell_type": "markdown",
   "id": "alpha-venue",
   "metadata": {
    "papermill": {
     "duration": 0.272407,
     "end_time": "2021-03-20T11:09:33.550458",
     "exception": false,
     "start_time": "2021-03-20T11:09:33.278051",
     "status": "completed"
    },
    "tags": []
   },
   "source": [
    "## Plot images encoder's and decoder's"
   ]
  },
  {
   "cell_type": "code",
   "execution_count": 10,
   "id": "disturbed-arrow",
   "metadata": {
    "execution": {
     "iopub.execute_input": "2021-03-20T11:09:34.132946Z",
     "iopub.status.busy": "2021-03-20T11:09:34.132346Z",
     "iopub.status.idle": "2021-03-20T11:09:34.969446Z",
     "shell.execute_reply": "2021-03-20T11:09:34.968917Z"
    },
    "papermill": {
     "duration": 1.128641,
     "end_time": "2021-03-20T11:09:34.969582",
     "exception": false,
     "start_time": "2021-03-20T11:09:33.840941",
     "status": "completed"
    },
    "tags": []
   },
   "outputs": [
    {
     "data": {
      "image/png": "[encoded data removed]",
      "text/plain": [
       "<Figure size 1440x288 with 20 Axes>"
      ]
     },
     "metadata": {
      "needs_background": "light"
     },
     "output_type": "display_data"
    }
   ],
   "source": [
    "n = 10\n",
    "plt.figure(figsize=(20,4))\n",
    "for i in range(10):\n",
    "    ax = plt.subplot(2, n, i + 1)\n",
    "    ax.imshow(x_test[i])\n",
    "    plt.title('Original')\n",
    "    plt.gray()\n",
    "    ax.get_xaxis().set_visible(False)\n",
    "    ax.get_yaxis().set_visible(False)\n",
    "    \n",
    "for i in range(n):\n",
    "    ax = plt.subplot(2, n, i + 1 + n)\n",
    "    ax.imshow(decoded_img[i])\n",
    "    plt.title('Decoded')\n",
    "    plt.gray()\n",
    "    ax.get_xaxis().set_visible(False)\n",
    "    ax.get_yaxis().set_visible(False)"
   ]
  },
  {
   "cell_type": "markdown",
   "id": "aggressive-apartment",
   "metadata": {
    "papermill": {
     "duration": 0.272703,
     "end_time": "2021-03-20T11:09:35.519148",
     "exception": false,
     "start_time": "2021-03-20T11:09:35.246445",
     "status": "completed"
    },
    "tags": []
   },
   "source": [
    "# Image Denoising"
   ]
  },
  {
   "cell_type": "code",
   "execution_count": 11,
   "id": "automotive-former",
   "metadata": {
    "execution": {
     "iopub.execute_input": "2021-03-20T11:09:36.065256Z",
     "iopub.status.busy": "2021-03-20T11:09:36.064638Z",
     "iopub.status.idle": "2021-03-20T11:09:36.511396Z",
     "shell.execute_reply": "2021-03-20T11:09:36.510687Z"
    },
    "papermill": {
     "duration": 0.721063,
     "end_time": "2021-03-20T11:09:36.511538",
     "exception": false,
     "start_time": "2021-03-20T11:09:35.790475",
     "status": "completed"
    },
    "tags": []
   },
   "outputs": [],
   "source": [
    "(x_train, _), (x_test, _) = fashion_mnist.load_data()"
   ]
  },
  {
   "cell_type": "code",
   "execution_count": 12,
   "id": "comfortable-taiwan",
   "metadata": {
    "execution": {
     "iopub.execute_input": "2021-03-20T11:09:37.064548Z",
     "iopub.status.busy": "2021-03-20T11:09:37.064018Z",
     "iopub.status.idle": "2021-03-20T11:09:37.186729Z",
     "shell.execute_reply": "2021-03-20T11:09:37.186214Z"
    },
    "papermill": {
     "duration": 0.399028,
     "end_time": "2021-03-20T11:09:37.186889",
     "exception": false,
     "start_time": "2021-03-20T11:09:36.787861",
     "status": "completed"
    },
    "tags": []
   },
   "outputs": [],
   "source": [
    "x_train = x_train.astype('float32') / x_train.max() # Normalization\n",
    "x_test = x_test.astype('float32') / x_test.max()\n",
    "\n",
    "x_train = x_train[..., tf.newaxis]\n",
    "x_test = x_test[..., tf.newaxis]"
   ]
  },
  {
   "cell_type": "code",
   "execution_count": 13,
   "id": "former-lincoln",
   "metadata": {
    "execution": {
     "iopub.execute_input": "2021-03-20T11:09:37.738832Z",
     "iopub.status.busy": "2021-03-20T11:09:37.737922Z",
     "iopub.status.idle": "2021-03-20T11:09:38.803593Z",
     "shell.execute_reply": "2021-03-20T11:09:38.803016Z"
    },
    "papermill": {
     "duration": 1.345513,
     "end_time": "2021-03-20T11:09:38.803732",
     "exception": false,
     "start_time": "2021-03-20T11:09:37.458219",
     "status": "completed"
    },
    "tags": []
   },
   "outputs": [],
   "source": [
    "# Add some noise to our images.\n",
    "noise_factor = 0.2\n",
    "x_train_noisy = x_train + noise_factor * tf.random.normal(shape=x_train.shape)\n",
    "x_test_noisy = x_test + noise_factor * tf.random.normal(shape=x_test.shape)\n",
    "\n",
    "x_train_noisy = tf.clip_by_value(x_train_noisy, clip_value_min=0., clip_value_max=1.)\n",
    "x_test_noisy = tf.clip_by_value(x_test_noisy, clip_value_min=0., clip_value_max=1.)"
   ]
  },
  {
   "cell_type": "code",
   "execution_count": 14,
   "id": "fleet-seller",
   "metadata": {
    "execution": {
     "iopub.execute_input": "2021-03-20T11:09:39.385072Z",
     "iopub.status.busy": "2021-03-20T11:09:39.376053Z",
     "iopub.status.idle": "2021-03-20T11:09:40.136045Z",
     "shell.execute_reply": "2021-03-20T11:09:40.135559Z"
    },
    "papermill": {
     "duration": 1.058709,
     "end_time": "2021-03-20T11:09:40.136183",
     "exception": false,
     "start_time": "2021-03-20T11:09:39.077474",
     "status": "completed"
    },
    "tags": []
   },
   "outputs": [
    {
     "data": {
      "image/png": "[encoded data removed]",
      "text/plain": [
       "<Figure size 1440x144 with 10 Axes>"
      ]
     },
     "metadata": {
      "needs_background": "light"
     },
     "output_type": "display_data"
    }
   ],
   "source": [
    "# Show images with nioising.\n",
    "n = 10\n",
    "plt.figure(figsize=(20, 2))\n",
    "for i in range(n):\n",
    "    ax = plt.subplot(1, n, i + 1)\n",
    "    plt.title(\"original + noise\")\n",
    "    plt.imshow(tf.squeeze(x_test_noisy[i]))\n",
    "    plt.gray()\n",
    "plt.show()"
   ]
  },
  {
   "cell_type": "markdown",
   "id": "metropolitan-dinner",
   "metadata": {
    "papermill": {
     "duration": 0.272738,
     "end_time": "2021-03-20T11:09:40.679690",
     "exception": false,
     "start_time": "2021-03-20T11:09:40.406952",
     "status": "completed"
    },
    "tags": []
   },
   "source": [
    "## Create model with convolution layers."
   ]
  },
  {
   "cell_type": "code",
   "execution_count": 15,
   "id": "liquid-yacht",
   "metadata": {
    "execution": {
     "iopub.execute_input": "2021-03-20T11:09:41.239192Z",
     "iopub.status.busy": "2021-03-20T11:09:41.238203Z",
     "iopub.status.idle": "2021-03-20T11:09:41.241593Z",
     "shell.execute_reply": "2021-03-20T11:09:41.241092Z"
    },
    "papermill": {
     "duration": 0.287646,
     "end_time": "2021-03-20T11:09:41.241736",
     "exception": false,
     "start_time": "2021-03-20T11:09:40.954090",
     "status": "completed"
    },
    "tags": []
   },
   "outputs": [],
   "source": [
    "class Denoise(Model):\n",
    "    '''\n",
    "    Denoiser with convolutions layers in encoder and decoder.\n",
    "    '''\n",
    "    \n",
    "    def __init__(self):\n",
    "        super(Denoise, self).__init__()\n",
    "        self.encoder = tf.keras.Sequential([\n",
    "            layers.Input(shape=(28, 28, 1)),\n",
    "            layers.Conv2D(16, (3, 3), activation='relu', padding='same', strides=1),\n",
    "            layers.Conv2D(8, (3, 3), activation='relu', padding='same', strides=1)\n",
    "        ])\n",
    "        \n",
    "        self.decoder = tf.keras.Sequential([\n",
    "            layers.Conv2DTranspose(8, kernel_size=3, activation='relu', padding='same', strides=1),\n",
    "            layers.Conv2DTranspose(16, kernel_size=3, activation='relu', padding='same', strides=1),\n",
    "            layers.Conv2DTranspose(1, kernel_size=(3, 3), activation='sigmoid', padding='same')\n",
    "        ])\n",
    "        \n",
    "    def call(self, x):\n",
    "        x = self.encoder(x)\n",
    "        return self.decoder(x)"
   ]
  },
  {
   "cell_type": "code",
   "execution_count": 16,
   "id": "corrected-angle",
   "metadata": {
    "execution": {
     "iopub.execute_input": "2021-03-20T11:09:41.803449Z",
     "iopub.status.busy": "2021-03-20T11:09:41.802806Z",
     "iopub.status.idle": "2021-03-20T11:09:41.843028Z",
     "shell.execute_reply": "2021-03-20T11:09:41.842312Z"
    },
    "papermill": {
     "duration": 0.32519,
     "end_time": "2021-03-20T11:09:41.843175",
     "exception": false,
     "start_time": "2021-03-20T11:09:41.517985",
     "status": "completed"
    },
    "tags": []
   },
   "outputs": [],
   "source": [
    "# Initialize model, loss and optimazer.\n",
    "conv_autoencoder = Denoise()\n",
    "\n",
    "loss_fn = losses.MeanSquaredError()\n",
    "optim = optimizers.Adam()"
   ]
  },
  {
   "cell_type": "code",
   "execution_count": 17,
   "id": "decreased-booking",
   "metadata": {
    "execution": {
     "iopub.execute_input": "2021-03-20T11:09:42.413004Z",
     "iopub.status.busy": "2021-03-20T11:09:42.409792Z",
     "iopub.status.idle": "2021-03-20T11:09:42.415948Z",
     "shell.execute_reply": "2021-03-20T11:09:42.416439Z"
    },
    "papermill": {
     "duration": 0.296338,
     "end_time": "2021-03-20T11:09:42.416604",
     "exception": false,
     "start_time": "2021-03-20T11:09:42.120266",
     "status": "completed"
    },
    "tags": []
   },
   "outputs": [],
   "source": [
    "conv_autoencoder.compile(loss=loss_fn, optimizer=optim)"
   ]
  },
  {
   "cell_type": "code",
   "execution_count": 18,
   "id": "coated-capitol",
   "metadata": {
    "execution": {
     "iopub.execute_input": "2021-03-20T11:09:43.123559Z",
     "iopub.status.busy": "2021-03-20T11:09:43.122892Z",
     "iopub.status.idle": "2021-03-20T11:21:43.292142Z",
     "shell.execute_reply": "2021-03-20T11:21:43.292710Z"
    },
    "papermill": {
     "duration": 720.596494,
     "end_time": "2021-03-20T11:21:43.292944",
     "exception": false,
     "start_time": "2021-03-20T11:09:42.696450",
     "status": "completed"
    },
    "tags": []
   },
   "outputs": [
    {
     "name": "stdout",
     "output_type": "stream",
     "text": [
      "Epoch 1/10\n",
      "1875/1875 [==============================] - 70s 37ms/step - loss: 0.0244 - val_loss: 0.0065\n",
      "Epoch 2/10\n",
      "1875/1875 [==============================] - 70s 37ms/step - loss: 0.0064 - val_loss: 0.0061\n",
      "Epoch 3/10\n",
      "1875/1875 [==============================] - 71s 38ms/step - loss: 0.0061 - val_loss: 0.0061\n",
      "Epoch 4/10\n",
      "1875/1875 [==============================] - 71s 38ms/step - loss: 0.0059 - val_loss: 0.0058\n",
      "Epoch 5/10\n",
      "1875/1875 [==============================] - 77s 41ms/step - loss: 0.0058 - val_loss: 0.0058\n",
      "Epoch 6/10\n",
      "1875/1875 [==============================] - 75s 40ms/step - loss: 0.0058 - val_loss: 0.0057\n",
      "Epoch 7/10\n",
      "1875/1875 [==============================] - 71s 38ms/step - loss: 0.0057 - val_loss: 0.0057\n",
      "Epoch 8/10\n",
      "1875/1875 [==============================] - 71s 38ms/step - loss: 0.0057 - val_loss: 0.0056\n",
      "Epoch 9/10\n",
      "1875/1875 [==============================] - 71s 38ms/step - loss: 0.0056 - val_loss: 0.0056\n",
      "Epoch 10/10\n",
      "1875/1875 [==============================] - 72s 38ms/step - loss: 0.0056 - val_loss: 0.0056\n"
     ]
    },
    {
     "data": {
      "text/plain": [
       "<tensorflow.python.keras.callbacks.History at 0x7f9ad865bc90>"
      ]
     },
     "execution_count": 18,
     "metadata": {},
     "output_type": "execute_result"
    }
   ],
   "source": [
    "conv_autoencoder.fit(x_train_noisy, x_train,\n",
    "               epochs=10,\n",
    "               shuffle=True,\n",
    "               validation_data=(x_test_noisy, x_test))"
   ]
  },
  {
   "cell_type": "code",
   "execution_count": 19,
   "id": "basic-adams",
   "metadata": {
    "execution": {
     "iopub.execute_input": "2021-03-20T11:21:49.503740Z",
     "iopub.status.busy": "2021-03-20T11:21:49.503148Z",
     "iopub.status.idle": "2021-03-20T11:21:53.561959Z",
     "shell.execute_reply": "2021-03-20T11:21:53.561327Z"
    },
    "papermill": {
     "duration": 7.170475,
     "end_time": "2021-03-20T11:21:53.562110",
     "exception": false,
     "start_time": "2021-03-20T11:21:46.391635",
     "status": "completed"
    },
    "tags": []
   },
   "outputs": [],
   "source": [
    "# Save images after encoding and decoding separately for plotting.\n",
    "encoded_img = conv_autoencoder.encoder(x_test).numpy()\n",
    "decoded_img = conv_autoencoder.decoder(encoded_img).numpy()"
   ]
  },
  {
   "cell_type": "code",
   "execution_count": 20,
   "id": "tribal-board",
   "metadata": {
    "execution": {
     "iopub.execute_input": "2021-03-20T11:21:59.693342Z",
     "iopub.status.busy": "2021-03-20T11:21:59.692641Z",
     "iopub.status.idle": "2021-03-20T11:22:00.842775Z",
     "shell.execute_reply": "2021-03-20T11:22:00.843321Z"
    },
    "papermill": {
     "duration": 4.246734,
     "end_time": "2021-03-20T11:22:00.843530",
     "exception": false,
     "start_time": "2021-03-20T11:21:56.596796",
     "status": "completed"
    },
    "tags": []
   },
   "outputs": [
    {
     "data": {
      "image/png": "[encoded data removed]",
      "text/plain": [
       "<Figure size 1440x288 with 20 Axes>"
      ]
     },
     "metadata": {
      "needs_background": "light"
     },
     "output_type": "display_data"
    }
   ],
   "source": [
    "n = 10\n",
    "plt.figure(figsize=(20,4))\n",
    "for i in range(10):\n",
    "    ax = plt.subplot(2, n, i + 1)\n",
    "    ax.imshow(x_test_noisy[i])\n",
    "    plt.title('Original + noise')\n",
    "    plt.gray()\n",
    "    ax.get_xaxis().set_visible(False)\n",
    "    ax.get_yaxis().set_visible(False)\n",
    "    \n",
    "for i in range(n):\n",
    "    ax = plt.subplot(2, n, i + 1 + n)\n",
    "    ax.imshow(decoded_img[i])\n",
    "    plt.title('Denoised')\n",
    "    plt.gray()\n",
    "    ax.get_xaxis().set_visible(False)\n",
    "    ax.get_yaxis().set_visible(False)"
   ]
  }
 ],
 "metadata": {
  "kernelspec": {
   "display_name": "Python 3",
   "language": "python",
   "name": "python3"
  },
  "language_info": {
   "codemirror_mode": {
    "name": "ipython",
    "version": 3
   },
   "file_extension": ".py",
   "mimetype": "text/x-python",
   "name": "python",
   "nbconvert_exporter": "python",
   "pygments_lexer": "ipython3",
   "version": "3.7.9"
  },
  "papermill": {
   "default_parameters": {},
   "duration": 816.200983,
   "end_time": "2021-03-20T11:22:05.127243",
   "environment_variables": {},
   "exception": null,
   "input_path": "__notebook__.ipynb",
   "output_path": "__notebook__.ipynb",
   "parameters": {},
   "start_time": "2021-03-20T11:08:28.926260",
   "version": "2.3.2"
  }
 },
 "nbformat": 4,
 "nbformat_minor": 5
}
